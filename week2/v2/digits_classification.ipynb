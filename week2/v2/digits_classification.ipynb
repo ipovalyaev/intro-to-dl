{
 "cells": [
  {
   "cell_type": "markdown",
   "metadata": {
    "slideshow": {
     "slide_type": "slide"
    }
   },
   "source": [
    "# MNIST digits classification with TensorFlow"
   ]
  },
  {
   "cell_type": "markdown",
   "metadata": {},
   "source": [
    "<img src=\"images/mnist_sample.png\" style=\"width:30%\">"
   ]
  },
  {
   "cell_type": "code",
   "execution_count": 1,
   "metadata": {},
   "outputs": [
    {
     "name": "stdout",
     "output_type": "stream",
     "text": [
      "We're using TF 1.2.1\n"
     ]
    },
    {
     "name": "stderr",
     "output_type": "stream",
     "text": [
      "Using TensorFlow backend.\n"
     ]
    }
   ],
   "source": [
    "import numpy as np\n",
    "from sklearn.metrics import accuracy_score\n",
    "from matplotlib import pyplot as plt\n",
    "%matplotlib inline\n",
    "import tensorflow as tf\n",
    "print(\"We're using TF\", tf.__version__)\n",
    "\n",
    "import sys\n",
    "sys.path.append(\"../..\")\n",
    "import grading\n",
    "\n",
    "import matplotlib_utils\n",
    "from importlib import reload\n",
    "reload(matplotlib_utils)\n",
    "\n",
    "import grading_utils\n",
    "reload(grading_utils)\n",
    "\n",
    "import keras_utils\n",
    "from keras_utils import reset_tf_session"
   ]
  },
  {
   "cell_type": "markdown",
   "metadata": {},
   "source": [
    "# Fill in your Coursera token and email\n",
    "To successfully submit your answers to our grader, please fill in your Coursera submission token and email"
   ]
  },
  {
   "cell_type": "code",
   "execution_count": 11,
   "metadata": {},
   "outputs": [],
   "source": [
    "grader = grading.Grader(assignment_key=\"XtD7ho3TEeiHQBLWejjYAA\", \n",
    "                        all_parts=[\"9XaAS\", \"vmogZ\", \"RMv95\", \"i8bgs\", \"rE763\"])"
   ]
  },
  {
   "cell_type": "code",
   "execution_count": 12,
   "metadata": {},
   "outputs": [],
   "source": [
    "# token expires every 30 min\n",
    "COURSERA_TOKEN = 'RQlZs6iTajr39TMz'\n",
    "COURSERA_EMAIL = 'ipovalyaev@seznam.cz'"
   ]
  },
  {
   "cell_type": "markdown",
   "metadata": {},
   "source": [
    "# Look at the data\n",
    "\n",
    "In this task we have 50000 28x28 images of digits from 0 to 9.\n",
    "We will train a classifier on this data."
   ]
  },
  {
   "cell_type": "code",
   "execution_count": 2,
   "metadata": {},
   "outputs": [],
   "source": [
    "import preprocessed_mnist\n",
    "X_train, y_train, X_val, y_val, X_test, y_test = preprocessed_mnist.load_dataset()"
   ]
  },
  {
   "cell_type": "code",
   "execution_count": 3,
   "metadata": {},
   "outputs": [
    {
     "name": "stdout",
     "output_type": "stream",
     "text": [
      "X_train [shape (50000, 28, 28)] sample patch:\n",
      " [[ 0.          0.29803922  0.96470588  0.98823529  0.43921569]\n",
      " [ 0.          0.33333333  0.98823529  0.90196078  0.09803922]\n",
      " [ 0.          0.33333333  0.98823529  0.8745098   0.        ]\n",
      " [ 0.          0.33333333  0.98823529  0.56862745  0.        ]\n",
      " [ 0.          0.3372549   0.99215686  0.88235294  0.        ]]\n",
      "A closeup of a sample patch:\n"
     ]
    },
    {
     "data": {
      "image/png": "[encoded data removed]",
      "text/plain": [
       "<matplotlib.figure.Figure at 0x7fad503507f0>"
      ]
     },
     "metadata": {
      "needs_background": "light"
     },
     "output_type": "display_data"
    },
    {
     "name": "stdout",
     "output_type": "stream",
     "text": [
      "And the whole sample:\n"
     ]
    },
    {
     "data": {
      "image/png": "[encoded data removed]",
      "text/plain": [
       "<matplotlib.figure.Figure at 0x7fad4cfc4f60>"
      ]
     },
     "metadata": {
      "needs_background": "light"
     },
     "output_type": "display_data"
    },
    {
     "name": "stdout",
     "output_type": "stream",
     "text": [
      "y_train [shape (50000,)] 10 samples:\n",
      " [5 0 4 1 9 2 1 3 1 4]\n"
     ]
    }
   ],
   "source": [
    "# X contains rgb values divided by 255\n",
    "print(\"X_train [shape %s] sample patch:\\n\" % (str(X_train.shape)), X_train[1, 15:20, 5:10])\n",
    "print(\"A closeup of a sample patch:\")\n",
    "plt.imshow(X_train[1, 15:20, 5:10], cmap=\"Greys\")\n",
    "plt.show()\n",
    "print(\"And the whole sample:\")\n",
    "plt.imshow(X_train[1], cmap=\"Greys\")\n",
    "plt.show()\n",
    "print(\"y_train [shape %s] 10 samples:\\n\" % (str(y_train.shape)), y_train[:10])"
   ]
  },
  {
   "cell_type": "markdown",
   "metadata": {},
   "source": [
    "# Linear model\n",
    "\n",
    "Your task is to train a linear classifier $\\vec{x} \\rightarrow y$ with SGD using TensorFlow.\n",
    "\n",
    "You will need to calculate a logit (a linear transformation) $z_k$ for each class: \n",
    "$$z_k = \\vec{x} \\cdot \\vec{w_k} + b_k \\quad k = 0..9$$\n",
    "\n",
    "And transform logits $z_k$ to valid probabilities $p_k$ with softmax: \n",
    "$$p_k = \\frac{e^{z_k}}{\\sum_{i=0}^{9}{e^{z_i}}} \\quad k = 0..9$$\n",
    "\n",
    "We will use a cross-entropy loss to train our multi-class classifier:\n",
    "$$\\text{cross-entropy}(y, p) = -\\sum_{k=0}^{9}{\\log(p_k)[y = k]}$$ \n",
    "\n",
    "where \n",
    "$$\n",
    "[x]=\\begin{cases}\n",
    "       1, \\quad \\text{if $x$ is true} \\\\\n",
    "       0, \\quad \\text{otherwise}\n",
    "    \\end{cases}\n",
    "$$\n",
    "\n",
    "Cross-entropy minimization pushes $p_k$ close to 1 when $y = k$, which is what we want.\n",
    "\n",
    "Here's the plan:\n",
    "* Flatten the images (28x28 -> 784) with `X_train.reshape((X_train.shape[0], -1))` to simplify our linear model implementation\n",
    "* Use a matrix placeholder for flattened `X_train`\n",
    "* Convert `y_train` to one-hot encoded vectors that are needed for cross-entropy\n",
    "* Use a shared variable `W` for all weights (a column $\\vec{w_k}$ per class) and `b` for all biases.\n",
    "* Aim for ~0.93 validation accuracy"
   ]
  },
  {
   "cell_type": "code",
   "execution_count": 4,
   "metadata": {},
   "outputs": [
    {
     "name": "stdout",
     "output_type": "stream",
     "text": [
      "(50000, 784)\n",
      "(10000, 784)\n"
     ]
    }
   ],
   "source": [
    "X_train_flat = X_train.reshape((X_train.shape[0], -1))\n",
    "print(X_train_flat.shape)\n",
    "\n",
    "X_val_flat = X_val.reshape((X_val.shape[0], -1))\n",
    "print(X_val_flat.shape)"
   ]
  },
  {
   "cell_type": "code",
   "execution_count": 5,
   "metadata": {},
   "outputs": [
    {
     "name": "stdout",
     "output_type": "stream",
     "text": [
      "(50000, 10)\n",
      "[[ 0.  0.  0.  0.  0.  1.  0.  0.  0.  0.]\n",
      " [ 1.  0.  0.  0.  0.  0.  0.  0.  0.  0.]\n",
      " [ 0.  0.  0.  0.  1.  0.  0.  0.  0.  0.]] [5 0 4]\n"
     ]
    }
   ],
   "source": [
    "import keras\n",
    "\n",
    "y_train_oh = keras.utils.to_categorical(y_train, 10)\n",
    "y_val_oh = keras.utils.to_categorical(y_val, 10)\n",
    "\n",
    "print(y_train_oh.shape)\n",
    "print(y_train_oh[:3], y_train[:3])"
   ]
  },
  {
   "cell_type": "code",
   "execution_count": 18,
   "metadata": {},
   "outputs": [],
   "source": [
    "# run this again if you remake your graph\n",
    "s = reset_tf_session()"
   ]
  },
  {
   "cell_type": "code",
   "execution_count": 19,
   "metadata": {},
   "outputs": [],
   "source": [
    "# Model parameters: W and b\n",
    "#W = ### YOUR CODE HERE ### tf.get_variable(...) with shape[0] = 784\n",
    "#b = ### YOUR CODE HERE ### tf.get_variable(...)\n",
    "W = tf.get_variable(\"W\",shape=(784,10))\n",
    "b = tf.get_variable(\"b\",shape=(10))"
   ]
  },
  {
   "cell_type": "code",
   "execution_count": 20,
   "metadata": {},
   "outputs": [],
   "source": [
    "# Placeholders for the input data\n",
    "#input_X = ### YOUR CODE HERE ### tf.placeholder(...) for flat X with shape[0] = None for any batch size\n",
    "#input_y = ### YOUR CODE HERE ### tf.placeholder(...) for one-hot encoded true labels\n",
    "input_X = tf.placeholder(tf.float32,shape=(None,784))\n",
    "input_y = tf.placeholder(tf.float32,shape=(None,10))"
   ]
  },
  {
   "cell_type": "code",
   "execution_count": 21,
   "metadata": {},
   "outputs": [
    {
     "name": "stdout",
     "output_type": "stream",
     "text": [
      "W= <tf.Variable 'W:0' shape=(784, 10) dtype=float32_ref>\n",
      "b= <tf.Variable 'b:0' shape=(10,) dtype=float32_ref>\n",
      "input_X= Tensor(\"Placeholder:0\", shape=(?, 784), dtype=float32)\n",
      "input_y= Tensor(\"Placeholder_1:0\", shape=(?, 10), dtype=float32)\n"
     ]
    }
   ],
   "source": [
    "print(\"W=\",W)\n",
    "print('b=',b)\n",
    "print('input_X=',input_X)\n",
    "print('input_y=',input_y)"
   ]
  },
  {
   "cell_type": "code",
   "execution_count": 22,
   "metadata": {},
   "outputs": [],
   "source": [
    "# Compute predictions\n",
    "#logits = ### YOUR CODE HERE ### logits for input_X, resulting shape should be [input_X.shape[0], 10]\n",
    "#probas = ### YOUR CODE HERE ### apply tf.nn.softmax to logits\n",
    "#classes = ### YOUR CODE HERE ### apply tf.argmax to find a class index with highest probability\n",
    "logits = input_X @ W + b\n",
    "probas = tf.nn.softmax(logits)\n",
    "classes = tf.argmax(probas,axis=1)\n",
    "\n",
    "\n",
    "# Loss should be a scalar number: average loss over all the objects with tf.reduce_mean().\n",
    "# Use tf.nn.softmax_cross_entropy_with_logits on top of one-hot encoded input_y and logits.\n",
    "# It is identical to calculating cross-entropy on top of probas, but is more numerically friendly (read the docs).\n",
    "#loss = ### YOUR CODE HERE ### cross-entropy loss\n",
    "loss = tf.reduce_mean(tf.nn.softmax_cross_entropy_with_logits(labels=input_y,logits=logits))\n",
    "\n",
    "# Use a default tf.train.AdamOptimizer to get an SGD step\n",
    "#step = ### YOUR CODE HERE ### optimizer step that minimizes the loss\n",
    "step = tf.train.AdamOptimizer().minimize(loss)"
   ]
  },
  {
   "cell_type": "code",
   "execution_count": 23,
   "metadata": {},
   "outputs": [
    {
     "name": "stdout",
     "output_type": "stream",
     "text": [
      "logits= Tensor(\"add:0\", shape=(?, 10), dtype=float32)\n",
      "probas= Tensor(\"Softmax:0\", shape=(?, 10), dtype=float32)\n",
      "classes= Tensor(\"ArgMax:0\", shape=(?,), dtype=int64)\n",
      "loss= Tensor(\"Mean:0\", shape=(), dtype=float32)\n"
     ]
    }
   ],
   "source": [
    "print('logits=',logits)\n",
    "print('probas=',probas)\n",
    "print('classes=',classes)\n",
    "print('loss=',loss)\n",
    "writer = tf.summary.FileWriter(\"tensorboard_logs\", graph=s.graph)\n",
    "writer.flush()"
   ]
  },
  {
   "cell_type": "code",
   "execution_count": 24,
   "metadata": {
    "scrolled": false
   },
   "outputs": [
    {
     "data": {
      "text/html": [
       "<img src=\"data:image/jpeg;base64,/9j/4AAQSkZJRgABAQAAAQABAAD/2wBDAAIBAQEBAQIBAQECAgICAgQDAgICAgUEBAMEBgUGBgYFBgYGBwkIBgcJBwYGCAsICQoKCgoKBggLDAsKDAkKCgr/2wBDAQICAgICAgUDAwUKBwYHCgoKCgoKCgoKCgoKCgoKCgoKCgoKCgoKCgoKCgoKCgoKCgoKCgoKCgoKCgoKCgoKCgr/wAARCAEgA2ADASIAAhEBAxEB/8QAHwAAAQUBAQEBAQEAAAAAAAAAAAECAwQFBgcICQoL/8QAtRAAAgEDAwIEAwUFBAQAAAF9AQIDAAQRBRIhMUEGE1FhByJxFDKBkaEII0KxwRVS0fAkM2JyggkKFhcYGRolJicoKSo0NTY3ODk6Q0RFRkdISUpTVFVWV1hZWmNkZWZnaGlqc3R1dnd4eXqDhIWGh4iJipKTlJWWl5iZmqKjpKWmp6ipqrKztLW2t7i5usLDxMXGx8jJytLT1NXW19jZ2uHi4%2BTl5ufo6erx8vP09fb3%2BPn6/8QAHwEAAwEBAQEBAQEBAQAAAAAAAAECAwQFBgcICQoL/8QAtREAAgECBAQDBAcFBAQAAQJ3AAECAxEEBSExBhJBUQdhcRMiMoEIFEKRobHBCSMzUvAVYnLRChYkNOEl8RcYGRomJygpKjU2Nzg5OkNERUZHSElKU1RVVldYWVpjZGVmZ2hpanN0dXZ3eHl6goOEhYaHiImKkpOUlZaXmJmaoqOkpaanqKmqsrO0tba3uLm6wsPExcbHyMnK0tPU1dbX2Nna4uPk5ebn6Onq8vP09fb3%2BPn6/9oADAMBAAIRAxEAPwD9/KKKKACiiigAooooAKKKKACiiigAooooAKKKKACiiigAooooAKKKKACiiigAooooAKKKKACiiigAooooAKKKKACiiigAooooAKKKKACiiigAooooAKKKKACiiigAooooAKKKKACiiigAooooAKKKKACiiigAooooAKKKKACiiigAooooAKKKKACiiigAooooAKKKKACiiigAooooAKKKKACiiigAooooAKKKKACiiigAooooAKKKKACiiigAooooAKKKKACiiigAooooAKKKKACiiigAooooAKKKKACiiigAooooAKKKKACiiigAooooAKKKKACiiigAooooAKKKKACiiigAooooAKKKKACvPfjt%2B1J8FP2b5NGsfil4g1Maj4ilnTQNB8OeF9R1zVNR8lVed4bHTbee5kjiVkMkixlI96biu5c%2BhV4N%2B0P8D/j5/wANJ%2BDv2tv2bLLwfrWueH/B2seFNX8KeOdcutLtLywv7mwuxcQXtraXj288U2noCpt3WVJSCUKK1ABpf/BTL9izWLvxPb2nxXv0h8FWsk/jLUrvwXrEFjoIS0iu9l5dy2iwWsrQzRskMjrJIWKorMrKL2n/APBQ/wDZK1HwBrXxFTx/q9vB4f1ay0vVdE1DwNrNrrkV5ebfscC6PNaLqEr3AYGER27eaAxTcFYjy2b9gH4y%2BMf2a/jn8NfGHinwppHin4o/FS38daHc6U1xeWFpeW0OiywQ3IkihkkiN3pRRwoyYHGDuJVaPi79i/8AaV%2BLmr/Ef45fG34S/CjWvFnjWx8KaPp/gKy%2BI2s2Wm6fY6Hcaldw3qa7b6al5DqDXOqTOksVoPJSKNFZiWcgHsviH9vv9mzwv4a8OeI9XvvG3meK0v5NE8P2vwm8SXGuSRWUscV3NJpMWntf28MLzQq8s0CIpmiy37xM%2Bmaz8RPBHhv4e3XxX8T%2BJbbSvDljo76rf6vqrfZYbSySIzPPMZdvlKsYLNvxtAOcYNfGHin9hH9s/WPgX4X8Nay3hfxV470a58RHRfGV/wDHbxNpGr%2BCLW%2BuUktLO11q1sJLzXIYkjhEy3qw/aTbReYCFGPUfjR/wTotfj1%2Bzb4n%2BHHxD%2BOfjW78d%2BMPhfH4Z17xS3jbWho818tpDE2oJoS3y2FuzzQLK3kRRSEPIBIrSM5AOkg/4KUfsZf8K58V/FbWPite6Jo3giysr7xQ/ifwdq%2Bk3NlZXkxhtb37LeWsVxJaSyK6pcxxtC3luQ%2BEYjj/AI3f8FZP2d/hn8ENU%2BMfgPRfFXiqbQfiD4X8L674Y/4QXXbHU7A6zqVrax3T2cmnNdeV5Fw88DeT5d48aW8MhknjB8r1T/gmJ8ZPHfwq8faR4i8DeG9G8Y%2BI9D0fR7DxDqv7RfjPxut3aWusW%2BoTRyf27AfsEZ8likUSzHe%2BGkxknv8A9qH9gz40/GD4g/F/4g%2BBfEPheOTxfB8LbzwlZ6tfXMSvf%2BE/EdzrUsN40dvJ5ENwGt4VljEzrl2MfyKrgHqFh/wUE/Zb1H4m2XwZh8T%2BJo/Fd5oun6xLoF38N9egudO0%2B9adILu/SSyU6dDut5VeS68pYiFEhQum6j4a/wCCmH7FPi3wZ4s%2BIWkfGC4TR/Bfgi68Zaxe6h4S1W0Fx4et0Z5tWsVntUbVLNVQ4nsxPGxZArEugbB0P9kP4ofEP4mfG74g/G9fD2gxfGj4O%2BHfCF1Y%2BE9duNRl0u4tE11Ltlnns7XzYwNViMT7FZikm6OPA3fN37Y37Kn7UOj/ALDHxS%2BJv7TF34AtIfhD%2BxT8QfBHhePwFqF5cNrzXukWxn1G6W5toBYqE0i3CWcbXAVppCZ22oKAPrPw9/wUl/Yy8TaHrHiPT/i1dQWehppU1/JqnhLVbJmtNSu1s7HUIUuLVGubCWdgovoQ9qoDO0qorMPT9E%2BLvw88R/FLX/gvofiH7T4k8LaXp%2Boa/YR2k22zgvmuBa7pinlF3%2ByzHy1cyKoRmVVkjLfJOofsz%2BIPFegeKfjb/wAFIvF/wz8J%2BBbf9nu5%2BHUlx4f8QTLay6beyQyXmq3k17BbpYOTBbCG2QzCAmT/AEiQsuOw/wCCPngP4u2f7I9r8f8A9pDUDf8AxJ%2BL15H4n8V6g9nJbtJCLSCy01fKl%2BeH/iX2lpI0TYKSzTZAYtkA%2BqqKKKACiiigAooooAKKKKACiiigAooooAKKKKACiiigAooooAKKKKACiiigAooooAKKKKACiiigAooooAKKKKACiiigAooooAK8R0j/AIKMfse6ld69Z6n8Urzw83hzw5c%2BINQk8a%2BEdV0GObSbd0jnv7WTUrWBb63R5IlaW2MqAyxjOXXPtN7FczWcsNndCCZ4mWKYx7/LYjhtp64POO9fmJq//BHL9uX4v6t4X1z43fHHQ31vw14P1Cz1DxRqHxW8TeJx4h1v7ZpV9a6idLvoobLSbaS50xfPsLIBRHJtWWQKgUA%2B2X/b/wD2YbX4aN8WNY8QeKtK0ttcg0axs9c%2BGWv2GqanfzIZIYLLTbixS9v2kQM6/Z4ZAyo7AkIxHReA/wBqz4H/ABH1%2By8J%2BHPEOqQ6vf8AhSfxJDpGteFdS0y7TTYbv7JLLLDeW8UkDrP8hhkVZe%2BzbzXk3xO%2BDn7bvxib4e/G3XPBvwq0P4h/Cjx1NrHh/wAM2vjjUr/Rdcs7jSbvTLmO4vn0qGaxmKXskkbpa3AjMQU%2BYJGxV%2BJPwG/bg1/4y%2BHf2mvA%2BjfCu08WX3ww1XwX4x0LUvFepSWGkLcX8N1a39lcJpwk1AxCN1kt5YrQSlxiWLHIB3Gk/wDBRv8AZA8R694F8LeFfiNqus6n8SfBuleLfBunaJ4H1m9nvND1F9lrqMiQWjNa2%2B7HmSTiNbcMpm8oMCdj4a/tufs3fFf4jXPwn8M%2BL9Ws9ft9LudThsvE/gzVtEW/sbeRI57uyl1G1gjv4I3liDy2zSIvmISQGUnyj9hT9hL4sfsw6/8ADjWfHniDw1dnwd%2Byl4R%2BGN%2B%2BkXM8rNq2lvM1zNF5kEe61bemxmKu235o0wK8a%2BGn/BKv9sbxP8UfC/ib9qb4w2eqRaf4A8V%2BF/GniaD4v%2BJNavPEUur2KW39p2umX0Men6EcqWNpaKUXKgTOI1WgD6l8J/8ABRf9kfxrosfirQfHeuf2Hcarpen6f4lvfh/rdrpWoy6lex2VlJaX09mlteQS3M0UYuIJHhBlQs4VgT6X4W%2BLvw88a/EDxT8LvC/iH7XrnguSzj8T2iWkwWxkuoPtEEZlZBG7tCVkKIzMiyRlgokTd8w%2BOPAnxF8K/wDBPbxp8CP%2BChnif4VeCPAWg/DSLQLb4meHfFt2GadI0trXUntLqzgTTZlmFvJDBHcXTGcoiOTtDdr/AMEr/h98WPDf7ImlfFX9oqwS3%2BJ3xYvpfHXxEhW3aL7Pf36xmG02N8yfZbGOys9pyQLXBoA%2BjaKKKACiiigAooooAKKKKACiiigAooooAKKKKACiiigAooooAKKKKACiiigAooooAKKKKACiiigAooooAKKKKACiiigAooooAKKKKACvF/j14/8A2i/%2BGi/AvwI%2BAvjPwV4fTX/BXiXXtX1Pxf4Lu9aJOnXeh28MMMdvqVj5Yb%2B1JWZmZ8%2BWgAXkn2ivCviLrSWX/BSr4Q6LIoxe/BP4hsjZ53R6t4NOPyZj%2BFJtLcuEJVHaPZv7tWX/APhB/wDgoX/0dB8Gf/DD6t/81FH/AAg//BQv/o6D4M/%2BGH1b/wCaivZqKZB4z/wg/wDwUL/6Og%2BDP/hh9W/%2Baij/AIQf/goX/wBHQfBn/wAMPq3/AM1FezUUAeM/8IP/AMFC/wDo6D4M/wDhh9W/%2Baij/hB/%2BChf/R0HwZ/8MPq3/wA1FezUUAeM/wDCD/8ABQv/AKOg%2BDP/AIYfVv8A5qKP%2BEH/AOChf/R0HwZ/8MPq3/zUV7NRQB4z/wAIP/wUL/6Og%2BDP/hh9W/8Amoo/4Qf/AIKF/wDR0HwZ/wDDD6t/81FezUUAeM/8IP8A8FC/%2BjoPgz/4YfVv/moo/wCEH/4KF/8AR0HwZ/8ADD6t/wDNRXs1FAHjP/CD/wDBQv8A6Og%2BDP8A4YfVv/moo/4Qf/goX/0dB8Gf/DD6t/8ANRXs1FAHjP8Awg//AAUL/wCjoPgz/wCGH1b/AOaij/hB/wDgoX/0dB8Gf/DD6t/81FeneK7aC/udJ028iWW3uNTK3ELjKyKLeZwGHcblU4PpXlP/AA1//wAE4P8Ao6L4I/8AhbaP/wDHayq4ihQt7Wajfu0vzaPQwOU5tmnN9Sw1Sty2v7OnUqWvtfkhO17O17Xs7Xsyx/wg/wDwUL/6Og%2BDP/hh9W/%2Baij/AIQf/goX/wBHQfBn/wAMPq3/AM1FV/8Ahr//AIJwf9HRfBH/AMLbR/8A47Wt4G/aB/Ya%2BKHim18DfDT43fCfxFrd9v8AsWj6F4l0y7urjYjSPsiikZ32ojOcA4VSTwDWccbgpyUY1Ytv%2B9H/AOSOytwxxPh6UqtXAV4xim23QrpJLVtt0Ukkt22kurRR/wCEH/4KF/8AR0HwZ/8ADD6t/wDNRR/wg/8AwUL/AOjoPgz/AOGH1b/5qKk/av8AjT8HP2R/hzpfxK8afCe71e01Pxnovh1Lbw34Sm1G4STUb6K0WXybWCWRlTzd20LmRgsSZkkjVszSf2s/2P8AxBq/inQfDfhrX9UvPBIiXxTb6V8G9dunsJ5Es3W0YRae2678u/tZDarunWN2cxhYpGTpPDL/APwg/wDwUL/6Og%2BDP/hh9W/%2Baij/AIQf/goX/wBHQfBn/wAMPq3/AM1FYWv/ALZX7G3hzQbP4h6pqWgWnhN/BPijxNqmpah4dvoL2wtdAubO21ESWRsd8bW8l0UmimaK4jkRUWGX96Yer%2BGHx0/ZP%2BL0F9J4SudNtpdO16HRruw8S%2BF59Fu1vpoUngiFvqEEEr%2BbE6vEyoVlUkoWAOACj/wg/wDwUL/6Og%2BDP/hh9W/%2Baij/AIQf/goX/wBHQfBn/wAMPq3/AM1Fct%2B1j%2B0na/s%2BeIrvw58O/wBmTRfGcvhzwBf%2BN/Gon1WPTWsNFtZFQi1H2WYXd7Li4MUDmCM/Zn3zx5Td6V8QINak8Cad4m/Z4%2BCngrxZe6nLDJDD4j1o6NZrZvG0nnmeKxu5M8IAghJJkGSoBNAHPf8ACD/8FC/%2BjoPgz/4YfVv/AJqKP%2BEH/wCChf8A0dB8Gf8Aww%2Brf/NRXiUv/BRXwhq2ofBrSPDfwT%2BFOkXHxa8M6xqccnxI%2BJkWh28Vxp%2BoWFg1nYSx6bcjU5JpLxpISoi8yKIOB8%2BF9Dj/AGpfh3r/AO2NqH7KHgrwN8MGk8PahBp/iJvEfjiDTtamupNPh1Bl0vSVs5X1COK2urV5JWlgUGV1XeYnwAdV/wAIP/wUL/6Og%2BDP/hh9W/8Amoo/4Qf/AIKF/wDR0HwZ/wDDD6t/81FZHwh%2BK/i34k6/8YPAWsfss%2BEtL8SfDXU47XQtPtvE63MGuifT0vLRppzYR/YmfzER1CTiPJIaTGKzPAP7T3hrxH%2Bx/Z/tHeKv2etEsfE2o61faBpngPSdRS9Goa3DqtxpkNnBdvawl0lng3GZoUEUReR1CRuQAdV/wg//AAUL/wCjoPgz/wCGH1b/AOaij/hB/wDgoX/0dB8Gf/DD6t/81FeF6n/wUm8LQ/Abwl8fdO/ZY8MjTbz9njT/AIx%2BPbbVfFUVo%2Bi6JcwLK9vYH7C41S6jxMNr/ZIyVhBkQzqo9b8X/GPV/AHx38GeBvFH7N3g1vBPxC8THQvCfifTPEwn1Sa5/sq51ETS6Y1giJbbLOdS6XUjr8jtGFLFADZ/4Qf/AIKF/wDR0HwZ/wDDD6t/81FH/CD/APBQv/o6D4M/%2BGH1b/5qK8I0H/gpt8PH%2BGp%2BJnjT9mfw5YQ%2BIfhSfiF8OdM07xPBd3eo6R9ttLIDU1eziXSJlm1GxEgDXMcYefMhNu6ne%2BJf7aevfD39mz41/FS1/ZM8Bat41%2BAMt1L8QfB9n49xYfYodFj1kz2uoHSvMkdraWNBFJaRHzt6khFErAHrP/CD/wDBQv8A6Og%2BDP8A4YfVv/moo/4Qf/goX/0dB8Gf/DD6t/8ANRWD%2B2Z%2B0v8AD39k%2BLwppuk/A7T/ABZrfifxNptlLpcLxWg03TLjUrPT59UmkMMn7uKa%2BtUWMLulknRQUXzJIzxV%2B0v8PdI/bS8K/sh%2BG/gbp%2BrRatBeJ4k8WB4oodFvksWvoLEReS32iZ7dPNkXfGYY57VsOJwFAN7/AIQf/goX/wBHQfBn/wAMPq3/AM1FH/CD/wDBQv8A6Og%2BDP8A4YfVv/morivA/wC0jrWnfGf4g/Db9pX9nb4a%2BENE%2BG/w9s/FXiTxd4b8bTazb2kdzLdrFbypPo9kUfybG4nbazlV8rK/vVNee6t/wUg0nR/gH4Y%2BMHiX9l3wJ4KvvEnxp1PwDNp/xP8AiBDolhootLTU7pbq%2Bvl0%2BcQSuunLEbcRuFmuAgmcLvYA93/4Qf8A4KF/9HQfBn/ww%2Brf/NRVDwP44/as8HftWeHPgj8bviP8PfE2jeJvh74h1yGbwr8PL7Rbq0utNvtEt0VnuNXvkljdNUlJUIjBokIbGQe9ttM0fUPhLF4yl8L%2BHrPU5vDy3zSeHLlbq2hnMAkzbXXkxNPEG%2B5KY4y64Youdo5Hxx/ykL%2BF/wD2Rnx5/wCnbwhQB7NRRRQAUUUUAFFFFABXzj8JvFX7d/x10fXvHfhf43/CTQNLt/iF4q0PS9Kv/g/ql/cRWul69f6ZC0twniKBZZHjs1dmWKNdzkBQAK%2Bjq8Z/YP8A%2BSIa5/2Wb4j/APqa63QAf8IP/wAFC/8Ao6D4M/8Ahh9W/wDmoo/4Qf8A4KF/9HQfBn/ww%2Brf/NRXs1FAHjP/AAg//BQv/o6D4M/%2BGH1b/wCaij/hB/8AgoX/ANHQfBn/AMMPq3/zUV7NRQB4z/wg/wDwUL/6Og%2BDP/hh9W/%2Baij/AIQf/goX/wBHQfBn/wAMPq3/AM1FezUUAeM/8IP/AMFC/wDo6D4M/wDhh9W/%2Baij/hB/%2BChf/R0HwZ/8MPq3/wA1FezUUAeM/wDCD/8ABQv/AKOg%2BDP/AIYfVv8A5qKP%2BEH/AOChf/R0HwZ/8MPq3/zUV7NRQB4z/wAIP/wUL/6Og%2BDP/hh9W/8Amoo/4Qf/AIKF/wDR0HwZ/wDDD6t/81FezUUAeM/8IP8A8FC/%2BjoPgz/4YfVv/moo/wCEH/4KF/8AR0HwZ/8ADD6t/wDNRXs1FAHjP/CD/wDBQv8A6Og%2BDP8A4YfVv/moo/4Qf/goX/0dB8Gf/DD6t/8ANRXs1FAHjP8Awg//AAUL/wCjoPgz/wCGH1b/AOaij/hB/wDgoX/0dB8Gf/DD6t/81FezUUAeM/8ACD/8FC/%2BjoPgz/4YfVv/AJqKP%2BEH/wCChf8A0dB8Gf8Aww%2Brf/NRXs1FAHjP/CD/APBQv/o6D4M/%2BGH1b/5qKP8AhB/%2BChf/AEdB8Gf/AAw%2Brf8AzUV7NRQB4z/wg/8AwUL/AOjoPgz/AOGH1b/5qKP%2BEH/4KF/9HQfBn/ww%2Brf/ADUV7NRQB4z/AMIP/wAFC/8Ao6D4M/8Ahh9W/wDmoo/4Qf8A4KF/9HQfBn/ww%2Brf/NRXs1MnuILaIzXMyRovV3YAD8TQB45/wg//AAUL/wCjoPgz/wCGH1b/AOaij/hB/wDgoX/0dB8Gf/DD6t/81Fd74n%2BOPwU8EwNdeM/jB4W0iJfvSap4gtrdR9TI4ryjxr/wVS/4J2eAd/8Abv7X3gufZ94aNqR1L8vsgkz%2BFctbHYLD/wAWrGPrKK/NnFXzHLsKv31aEfWcV%2Bcv0Nr/AIQf/goX/wBHQfBn/wAMPq3/AM1FH/CD/wDBQv8A6Og%2BDP8A4YfVv/morzD/AIfX/sK6gTL4P1nxr4htz/q7zRfh5qckUn0Lwqf0o/4fK/syNzD8KvjBIvZ0%2BGN5g/pXJ/buT9K8X6O/5JnD/rJkHTEwfo7/AJRZ6f8A8IP/AMFC/wDo6D4M/wDhh9W/%2Baij/hB/%2BChf/R0HwZ/8MPq3/wA1FeYf8Pi/gJc/Lon7Pvxy1OT/AJ5WHwsumb/x5hTJ/wDgq9fX0LS%2BEv8AgnH%2B0veqq5NzffDdbK3x6%2BZJcYH4ij%2B3Mp6VU/RSf5QYLiPJG7RrJ%2BkZy/Kmz1L/AIQf/goX/wBHQfBn/wAMPq3/AM1FH/CD/wDBQv8A6Og%2BDP8A4YfVv/mor5613/gtm3g%2BV28bfsV%2BMdMhU/8ALbxTpHnKP9qNp1Kn2NY%2Bnf8ABx1%2BxVHf/wBl%2BMPhp8RdJmB%2Bd10/T7qJfq0N4T/47XPLibIYO066j6qS/OJ69N4mrT9pHDV%2BXv8AVsVa3fm%2BqtW820vM%2Bnf%2BEH/4KF/9HQfBn/ww%2Brf/ADUUf8IP/wAFC/8Ao6D4M/8Ahh9W/wDmorwDU/8Ag4b/AOCdFjaLcWmseMr1yuTb2vhZg6n0PmSKufocVSsv%2BC/37PviYY%2BHf7Kfxx17d/q3svCFsyP9Cl25/Sm%2BJcgTssTFvybf5RZnHEKpDnpwqSXeNGvJffHDtfe0fRn/AAg//BQv/o6D4M/%2BGH1b/wCairf7K3xG%2BNPjDWPih4E%2BOmv%2BF9W1TwD8QotDs9V8J%2BGrnSbe6tZdB0fU1Z7e4vbxlkWTUZULCXaVjQ7VOc/L3if/AILKftL6jFj4Nf8ABI740axvHyXGsaRd2qL7kQ2cwI/4EPrXpf8AwSg%2BK3xb%2BN2i/G34ofHT4SXHgTxTqnxnU6n4UuoZY5LER%2BFvD0UQZZgHBeFI5OQM%2BZkDBFdODzjAY%2Bu6VBttK9%2BSaX3yjFPfZHTCGKnS9s6FSNPbmlTlCLfZOXK299odNWtn9Y0UUV6YgooooAKKKKACiiigAooooAKKKKACiiigAooooAKKKKACiiigAorz39q60%2BAd7%2Bzv4rt/2oJPC6%2BBDpudfPjWeCPS9okUxC4a4Ii2mYRgBzgttHOcV84fsr/tJfsOzf8ABG/4ea78bfip4H1/wN4b%2BAOgzeObA6lb6jEsFpYWsNxBNbxs5kK3CiBoSpJlPlFSx2kA%2B0a%2BXf2hdZ/sv/grP%2BzNY78f2l8MfiZb49cSeGJcf%2BQqn/4JTj4caj8AvEPjj4Ta34Mh0DxR48u9W03wP4B12zv9M8DwyWtokejq1k728U%2ByNby4hiPlpc38%2BwuhWR/LP2o/FPxUs/8Agtr%2ByXaeOfB/h/TdBfRfiVa%2BHNR0rxNPeXWoRvp%2BlFjdW8llAlowdIgqpNcBtzZZNo3cuMn7OhzecfxlFfqe7w5hvreaey706z/8BoVpf%2B2n3dRRRXUeEFFFFABRRRQAUUUUAFFFFABRRRQAUUUUAZfiD/kLaH/2FX/9JLivOv8Ahgf9hX/oyz4S/wDhudM/%2BMV6L4g/5C2h/wDYVf8A9JLivl//AIfm/wDBLL/o6L/yydc/%2BQq8/HV8qo8v12UFe9ufl%2BduZPyvYqPFNXhr4MfLDe07Vp0ubl78tSnzWv1va/S%2Bvrf/AAwP%2Bwr/ANGWfCX/AMNzpn/xitbwN%2ByL%2Byh8L/FNr45%2BGn7MPw88O63Y7/sWsaF4KsLS6t96NG%2ByWKJXTcjshwRlWIPBNeHf8Pzf%2BCWX/R0X/lk65/8AIVdb8DP%2BCrX7A37SnxT0v4KfBT49f214m1rz/wCzNM/4RbVbbzvJgknk/eT2qRriKKRvmYZ24GSQDx0cZw1KrGNKdHmbVrezvfpayvftbUp%2BJGIxy%2BrPOp1FP3eV4qpJSvpy8rrtSvtZpp7WZ6F%2B1L8DNW/aE%2BFcPgjw540t/D2rad4r0LxFourXukNf28V5pWq2upQrNbrNA00TvaiN1WWNtrkq6kA15d45/YA1/wAdfB34g/DzU/i/pEmo%2BP8A4naf401GS88GPNo88lvDpccunXenm9D3llN/Zx3xG4QlJwhZthL%2B0/GL4y%2BGPgfomkeJPGNhfyWGreKtL0A3dlEjJZXGoXUdnbSzbnUrEbiaGIsu4gzKdu3cR4h8bv8Agq9%2Bzf8AAH4fj4t%2BP9H1iDwsPEmv6RJrk%2Bs6FZKTo121re3EEF7qUFxfRiWOcIlpFPO4gYrF88Xme4ZnAaV/wRyg034J3/wdh%2BOelWcd/wCCviVoA/sP4eR2FjZ/8JdqNhelrazju9sMFmbIxJAGPmLIMuhQl/pHwz8CfEXgz45%2BN/jR4d8d2X/FcXWim%2B0y90N5Ps9vY28kLxxyLcJ%2B8l3hhIVIj24KSZyPLrv9vq38HfGjxl4P%2BKN9p2meHfDvxjuPC9jqVpo7z7tMg%2BHVn4snnuZTdL5TK8t1iWOKUNHHFF5IZmuFs/Av9vHxD8Yf2gvEXgHxB8CfFvg7w9pnw38N%2BI9LtfEHh8T6vdtquo6hbJNs065u0%2BzlLaE7GVJoCJmnEaj5QDX/AGsv2M/Fv7QfiO78R/Dr42Q%2BC5fEfw/v/BHjUz%2BGf7Sa/wBFupFctan7TCLS9izcCKdxPGPtL74JMJtv/tQ/s1/Gj42fBC7%2BBHwm%2BPGi%2BBNKur%2BxgZv%2BEPur15NBihVbnSpHi1O2kBuGXabiF4XSBmjUbyJxJ%2B0v8XPjnpPxV8Efs9fs43PhOw8T%2BLtI1zW5da8a6Rc39jbWOmCzjeIQW1zbO0stxqNoofzcRoJW2SEBTofC34v/ABH/AGn/ANjnwT8evgrNofhbXvHvg3Rtesh4p0ybVLTTFu4YLiWOSGC4tnuCkbyIu2aMFgpJxkEA5P4z/slfHP4xfs4r%2BzA3xj%2BHGheG9X8GXPhjxfDo/wAIJlDWMqGALpUb6u0emlLchEEy3iK6I4XA8s5/iT/gnqNT%2BON9490D4m2Gn%2BFtf%2BInh3xz4o0WTwqZ9Xu9a0a0s7W0MOqG6UQWzR6dZiWJreR3/wBIAlQXDgecav8At7ftQ3Pwd8DePtE/4RyDTdT8ceJtJ8SfEjSPg74g8UaRNpWmtcpa6xb6fpt6txa21y8KfvZZ5YVBLLI6Mkh7LxZ%2B2T8TNH/au8M%2BCJPiX4U0n4Vaz4J8I6npfjmb4Ta1qWn%2BKdS1XUNTt5rS31q3vk0/Sy0dvpvkLc%2BczvqUePNyqkA7L4S/s4ftL/Df42fFv4uap%2B0F4F1KH4jbLjRtMt/hde27aNeW9rFaWUk0p1qQXkSQxDzYlS3aVyWSSAfJXNfB7/gnR9k%2BDGj/AAn/AGpPioPGFx4W8a6t4k8I698OW13wNc6dcajLeSzhnstalllP%2Bn3UQPmqvlSbSjHc7ZHhf9tj4/6r8QdP16%2B0HwrP4I8a%2BOvG/gzwTpFlpN0NXs9S8Pf2oFubq4Ny0VzDdf2JfsIY4IXiEluC8hL45fwV%2B3V%2B1R4g/Yt1b4nJf6Hqvxb02fwade8C237PniiwvfCcGq6haW97LPos9%2B%2BoamkMD30kUtuYklNjJtL7HAANbUv%2BCTGk6n%2Bxx8LP2I9S8e%2BFNZ8NeA/AUfhjWfEfi74fS6z4gmQ28cFzc6PfXeoudDeRBKqKEuVt0aJIQiwRivSdI/ZT%2BNlh%2B2bcftM6p8cfCOqeHYNNj0jwt4Rv/h1cm78M6X5SfaILK9TVVhSW4nRZJrhrRndI4oeEiWvMfiZ%2B374/8MfD/wCHt74a%2BPPwuhXxJZ%2BJn1r4leKfh/q2n6Quq6ZcQRQ%2BHRpUuordWWpTmeZRHNcPKG0y5CwO7rEnLan/AMFd9ekuvBfxJaTwh4Z8LeJ/D/w/1fTPA3iDT7mbxF4ps/EkkCz3WmzpcRxrHp4uR5i/ZrjcbaQSNbq6PQB654F/4J9P4X%2BJPjb42ajffCz/AISrxF4V1PQdI/4R/wCDi6dpaw6hPDPdz6tai/kk1ieZ7WzErGeBWS3KqsZkdjz%2Bo/8ABMfXLH9jL4t/sxfDD4m%2BA/CWs/Gm3vrPxXrWi/Cc2%2Bi6fY3WljTGg03SLfUovsuyBVdWkuZszvNI4cSbF6iH9oj9oKw/bduP2WL3X/Dl/Zav4Z1nVNHvn%2BF2r6UuiGA2psx9tur5rXxF8t0FnjsfJaJo8v5W4KPOdV/bR/a7%2BH2i/Fi/8ceMfhdqOkeCviV4c8GWPxCt/Aeo6ZpejS3MdvLq2o6hA%2Br3BntLRb21i3JPbqsyTiSRFRmQA7n9pD/gmp4V/a18NWuu/GX4k6tZ/EZ4NAtdb8W%2BAdf8QaBp19aaXrH9pRwf2Vb6wYxkvcKkskkssLz%2Baj7o0UaF/wD8E0fgpb/tOeEf2nPBfinxno9/4f8AFGp6/q2kH4ha/c2WrXt5aNbtJ9nk1H7PByVZwsJWVV8t12147L/wUs%2BNniv4eeE/GHgnxJ4WtdEi8S%2BL9H%2BIHxNsPg34g8UaJGukTxJaX8Nvp18kllaXUMnn%2BdPPLDGoIEsigSt65%2B0J%2B1F8XvhF8Vfhk3g/xR4a8QeFfH/iLRNLh0%2BH4d6oUlhvLiOGa%2BHiNLw6babUl86C1miMl0YxBCzyTIQAdNB%2Bw98O/E3hz4oeHfjVrF94lX4qePovEms3Om315o09stoLJNMtYbizuVniFrHp1p88cqeZIJZCq%2BayVz3wf/Ye%2BIf7L/w58Q%2BDP2bPj1bR3viP4h6p4ju9Q%2BKOm6z4tSK3u2kItUW41qKUSpuUNced%2B9w7PGWcsPO/hV/wVBnb9oCTwL8d/G3gTS9LuX8Zf2h4ZsbC5g1jwLFoU7mObWJpLmRHS7soZrpGEFsMBfK%2B0xkyrXsf%2BCiH7SUvwu%2BI/jHxz4M8I%2BBZNB%2BNejeGdO1TxJpt29p4S8Palo%2Bk6nFqGuxi6jLTxLqPlzKktvDHLIis4WN5XAPoz4Q/A3Sf2af2TdL%2BAuh65cala%2BFfCL2Ed/cwpE05WJiziNAEiUsTtjX5UXag4UVjeOP%2BUhfwv/7Iz48/9O3hCqH7Kn7S7/tV/sq618Rrq/0q9u9O1XxFoF7qugW8sWnao%2Bn3dxarfWiSvIywXEccc6KZJNom2iSUASNf8cf8pC/hf/2Rnx5/6dvCFAHs1FFFABRRXP8AxN%2BLHws%2BCnhGb4gfGX4l%2BH/CWg20iR3Gt%2BJ9ZgsLSJ3YKitNO6opZiAATyTgUAdBRXPeK/i38KvAfw%2Bb4teOPib4e0bwqltFcP4m1bWoLfT1hlKiKQ3EjiMK5dArbsNuGM5FYPiT9q79lvwbpvhvWfF/7SngDSrPxlGsnhC71LxjYwRa4jbNrWbPKBcg%2BZHgxls719RQB39eM/sH/wDJENc/7LN8R/8A1Ndbr2avGf2D/wDkiGuf9lm%2BI/8A6mut0AezUUUUAFFFFABRRRQAUUUUAFFBIAyTXjPxp/4KIfsQ/s%2BGWD4r/tNeFLC7gz52mWmoi9vE%2BttaiSUfitY18Rh8NDnrTUV3bSX4tHPicXhcHT9pXqRhHvJpL8Wj2aivkcf8FbPDnj0iL9mb9jj41/EhX/1Oq6d4Lex0xx6m5uWXbntlKcf2zv8AgpR4hGzwT/wSV1CFX4W78R/F3SrQR/7TRbCxHsDmuD%2B28ul/DlKf%2BGE5L71C34nmf6xZVL%2BFKU/8FOpNffGFvx%2BZ9bUV8kC3/wCC1vxLPmy6j8CfhnZNysUMOoazqCezFsQEfSlf9l//AIKw%2BIUNtr3/AAU50DR4Zflm/sH4PWUkgU9djzSZU46Ht1o/tOrL%2BHhqr9VGP/pU0/wD%2B2K0/wCFg60l5xjH/wBLqJ/gfWskiRIZJXCqoyzMcAD1rhPGP7U/7MXw7dovH/7RvgTQ3U4ZNX8XWVswPpiSUGvlz4gf8E4/2LPDMKeIv%2BChf7Y3i3x27fvCvxR%2BKR03T1b1ht4pIBGuf4QzDNcP/wALL/4N4/gzeroPhH4deAvFepfdt9O0jwVc%2BI5ZiOyvJFNGT9XrjxGbYug/3nsqXlOreX/gMF%2BTZ9Hk/C3idxNHnynKJzj3UatRfN06Spq3X97p1aPpjxJ/wVS/4J1%2BFUeTU/2v/BUoQZP9m6n9sJ%2Bgtw5P4VxMv/Baf9izWpGt/g/B8QfiLcbtsdt4I%2BHeoXDyN/dXzo4gT%2BNcP4c/af8ACF86f8Mi/wDBFTxnfsD/AKJf6z4E0zwrZyHsyTyq3y/7W0V2sHiv/gtB8RkUeHPgz8D/AIXWWMfZ/E2vXusXkS9gpsgISR78Vy/2pmFb%2BFNS/wCvdCpL/wAmqShE97/iF3iFS/5GeNwOBX/T2tS51/24q1ef30/LQVf2/P21vHZ874Hf8EnfH93bN92fx/4s0/w1Io9TDP5jfhnNO/4Xh/wWJ1v97pf7Dfw00NT0i1r4l/aWH426AUH9l/8A4KseNP8Akdf%2BCl2h%2BGoW/wBdZ%2BDfhPZykj0Wa5fev1AzQP8Aglr4s8VHzvi//wAFH/2hNcY/6y20nxmmlWj/AFhhiPH40cuc1dvbfOVCmvuSqMX/ABD3IaOuP4ti32w9CtU%2B61ClH/ydobN4u/4LZ6xGYLT4Xfs7eHww%2Ba%2B1XXdWuUhXudsQBJ9O3rXF%2BK4f23Iw1x8cf%2BCznwl%2BG8Y/4%2BLDw74S0ooPUCbUJ1kXHrjNdwn/AARR/YO1NxN8RfDXjDxlIDkyeKPiBqcxY%2Bp8uaMGuz8J/wDBKz/gnX4LKNo/7IXgybZ0/tbTjf8A5/amkz%2BNH9nZxV%2BNv/t6vP8AKnTh/wClB/qp4U0f95zfMsR5QpUqK%2BTnXv8AfE%2BRPFni/wDZQsWZPjN/wcBfEzUiM%2BaPAPiSK0VvXH2CCcY%2Blci2sf8ABHDxO5Efx/8A2j/ixPnBkjvvEFy8h7jPkwA1%2BnXhP9nz4CeAVVPAvwQ8IaKE%2B4NJ8NWtsF%2BnlxjFdcqqihEUAAYAA4Ao/wBXq9T43T%2Bcak//AEutb8A/svwTobZTi8Q%2B9bGQjf1UKVT8JH5L/wDClv8Agm34m%2BXwL/wSI/aj8Wzt9zUL601i1t3%2Bs0moAD/vmnQ/sI%2BFdelFx4G/4N/tfuIf%2BWc3iz9ouWwKe5he5Yn6Zr9Z6KP9VMLL45R/7do0l%2BamHtPCvD/7twnhX51q2Jq/%2Bkugv0Py%2B8M/8E%2BPjNZXC3HhT/gjb8CdEYfd/wCEw%2BJFzrCr/vKGcN%2BVereCv2WP%2BCl3h8ovgb4P/scfDiFf9XJ4Z8F38l1H/wCQ1jJr7rorqo8N4Kj8M5L05I/%2Bk0k/xOyhxRkeAd8Dw9ltJ9/qrm186teX5M%2BSh%2By1/wAFWPEwB8S/8FPtG0CM/ftPDHwcsJhj0WS4k3L9cUv/AA7l/aR1/nx//wAFU/jLc7v9Z/wjos9Jz9PLRttfWlFdf9i4J/G5y9alR/8At6O//iJnFFP/AHeOGo/9e8Hg4/i8PN/e2fJf/DovwFqHzeMf20/2j/EDN986t8WJWDfgkK8U6H/gil%2BwZfzLP8QfCni3xgyHKDxR4%2B1OcA%2BuI5kB/HivrKij%2Bwsn60Iv1vL/ANKlIP8AiKviOl%2B7zSrT/wCvbhS%2B72VGk18mjwHQf%2BCWP/BO7w5EkOn/ALIPgqQIODf6X9qJ%2BpnLk/jXWaN%2Bw7%2BxZ4eIbQ/2RfhjasOjweA9PVv%2B%2BvJya9SorphluXU/gowX/bkf/kTxMTxpxljG/b5niZ374iu//c1vwMDw18KPhb4MYP4P%2BGugaSy/dOmaNBAR/wB8KK36KK64whBWikl5afkeBWxGIxM%2BetNzl3k3J/fJt/iFeM/sv/8AJb/2jv8Ass1j/wCoV4Xr2avGf2X/APkt/wC0d/2Wax/9QrwvVGJ7NRRRQAUUUUAFFFFABRRRQAUUUUAFFFFABRRRQAUUUUAFFFFABRRRQAUUUUAFfBn/AAUs1X%2Bwv%2BCrH7EGqbtu7U/GNrn/AK7jRIsf%2BPV951%2Bdn/BYy%2Bl0f/goT%2BxJrycJaePdS%2B0N/dik1Pw5Gx/8frzM4lyZbOXblf8A5PTPuPDegsTxphqL%2B2q8fvwuL/yR%2BidFFFemfDhRRRQAUUUUAFFFFABRRRQAUUUUAFFFFAGV4g/5C2h/9hV//SS4rVqvqelWOr24tr%2BJmVXDoySMjIw6MrKQVPXkHuap/wDCH6T/AM/eq/8Ag8u//jtAGpRWX/wh%2Bk/8/eq/%2BDy7/wDjtH/CH6T/AM/eq/8Ag8u//jtAGR8dPg74W/aC%2BD3iP4K%2BNLq9ttN8S6TLZT3ulyrHd2bMPkubd3VlSeJwssblWCvGpwcYrwr4jf8ABKX4JePvhJpHwa0z4ufEPwzpun/Ce8%2BHWq3fh7UtP%2B2a7ol0sf2hbuW5spis8kiGV57cQu7yPuLKQo%2BjP%2BEP0n/n71X/AMHl3/8AHaP%2BEP0n/n71X/weXf8A8doA8f13/gnr8BvFPizU/FHii713UE1jxvceJ9U0q4vIfstxPP4Oj8Iy2zBYQ/2dtOjD7Q4fz2Zt%2BzEQX4K/sM6b8E/GeqfEWw/aS%2BJev69qXhXRfDSap4kutKmez0rS7q4uLe2iSPT44zu%2B1TxySyK8zq%2BTIJAJB6//AMIfpP8Az96r/wCDy7/%2BO0f8IfpP/P3qv/g8u/8A47QBxH7Qf7M2kfHy80HxHafFDxZ4H8R%2BG/tkek%2BKvBVxZpfRW13EIrq1P2y2uIWilCRMcx71eCJ0ZGQGsX4j/sWeEPG/7NFz%2ByR4V%2BK/jPwR4JfwdpPhjTbHwdc2MU2l6dYkqY4Jri0mc/aLfy7WYSmRTDEBGsTtI7%2Bo/wDCH6T/AM/eq/8Ag8u//jtH/CH6T/z96r/4PLv/AOO0AeaP%2Byz42g%2BFej/Cvw/%2B2T8TNFi0iOW3XVtF0vwvbXM9oyKkdqUTRfs8EcKqBGbeGKRQTlzxjM1j9g/wNqXhbwh8JLD4teNdM%2BGngvT9Ds9O%2BFunzacNJuItIeF7JZp5LJtQYBre33It2iSCEKylWkD%2Bvf8ACH6T/wA/eq/%2BDy7/APjtH/CH6T/z96r/AODy7/8AjtAHkvhv9hP4feFPivc/FDR/iZ4yWFNT1zVvDfhd7qyOmeG9X1gu2o6lZL9l843ErzXL4uJZoka7n2RqJCKl8N/scah4auPFPi6L9qv4l3XjjxZY6Xp958RLuLQTqVrYafNczW1nBAmlLp6RB7y8LFrRpG%2B0tl8rGU9V/wCEP0n/AJ%2B9V/8AB5d//HaP%2BEP0n/n71X/weXf/AMdoA8lg/YlttI%2BE7/Cnwb%2B0v8S9AGp6xqWp%2BL/EOl3Ok/2l4luL9y1y1zLLp7pbk5whsktWiUKIygUY0PE37G/gvxLceE/Dv/Cw/E9h4A8Gx6QNL%2BFOm/2fHoUkmlypNYSSsbQ3zCKSK3YRLdLC32aMNGw3h/Sv%2BEP0n/n71X/weXf/AMdo/wCEP0n/AJ%2B9V/8AB5d//HaAPPtD/ZYgg%2BONl8dPHfxy8b%2BMLrRG1FvCWh%2BIG0yPT/D5vcLKYFsrG3mmIiHko11LOyxs2DuZmM/hH9mKw%2BG/wPvfgx8Lfi54t8OXOoa/f61c%2BNLL%2BzrjV3vr3U5dRu5j9rs5rVjJLNKhDW5CxttUKVVl7r/hD9J/5%2B9V/wDB5d//AB2j/hD9J/5%2B9V/8Hl3/APHaAPJbv9ia1tvhLbfB/wACftKfEjwrZSzarceKtS0WXSJL7xRc6lMZru4vJrvTpvLlaR5SrWgtvLEpWMIqRLHLr/7EnhLxBL4Y8NS/F7xrbeAPCNzoVxo/wttJdOXRll0eS3m08vKbI6gyxzWttKY/tYjdoQGVlZ1b1X/hD9J/5%2B9V/wDB5d//AB2j/hD9J/5%2B9V/8Hl3/APHaAPNrz9jjwL4x%2BJWp/EL44%2BNNc%2BJVreabqem6X4S8cWWlz6No9hqDo13aw20FlD9oR0ijh3XbXEgiUoHAkl8zE%2BGv/BO74Bfs/wAXxEn/AGUrc/CLUfiTrthqep6r8PPDeiWsmn/ZLS2tUtbWKbT5YBbstvJI0csUuJb26kUo0g2%2Byf8ACH6T/wA/eq/%2BDy7/APjtH/CH6T/z96r/AODy7/8AjtAHI%2BCfgz4V%2BAnwG1D4deEry/vIkg1S/v8AVNWnWW81K/u5Zrq7vJ3VVUyzTzSyNsVUBfaioiqo5vxx/wApC/hf/wBkZ8ef%2BnbwhXqJ8GaG%2BFna%2BmTIJiuNWuZEb2ZWkKsPYgivLvHH/KQv4X/9kZ8ef%2BnbwhQB7NRRRQAV4F%2B2kmp%2BGviP8FfjVfeCvEHiDwx4J8eX134jtPDHhu71i7svtGhalZ298tlZxS3E4SW4EJ8qN2QXe8gIrsvvtFAHxN4V%2BGWraD/wT9%2BGuieLrfxb4P8AFHwv17TvEujafF8KNW8SrpTyS3LWWnzabYIJL6OC0uhbyJayZtniVvMjMQNee6i3xd8AfsQWH7LHxM%2BGHju61L45%2BIfHMviXxjpnwa1bVF8JeFtV1q9vJBJZadbXTWt7PbXsa29jKSIJJGMzOLVll/RuigDn9Q0zxE/w2GlfCjWrPSNQGmRx6Le%2BI9GuL2K3wqhDPbefbzSYUYKGWN89SCCK8r/4J02/iW0/ZuvrXxlq1jf6vH8W/iGup32mac9pbXE48Z615kkUDzTNChbJCNLIVBALtjJ90rxn9g//AJIhrn/ZZviP/wCprrdAHs1FFFABRRXD/tF/tFfCf9lb4Tan8aPjP4kTTdG0xMYUBpruY58u3gjyDJK5GFUe5JCgkRVq06NN1KjSildt7JGdatSw9KVWrJRjFXbeiSW7bO4rz/4p/tW/syfA8SD4vftAeDvDksYO611bxFbwzn2WJn3sfYKTXzTD4A/bn/4KSxrqPxk1HU/gR8GrxQ8HgzRboDxT4itz0%2B23AGLGJ16wqN2CyurfK9eu/Cr/AIJf/wDBP74NeVJ4J/ZS8IvPDgx3mt2H9qTq394SXhlZW9wRXlxxmYYv3sLSSh0lU5lfzUEua3Zycb9rHixx%2Ba473sFRUafSdVyjfzjTiua3Zycb/wAtjgL7/grl8PviJeyaD%2Bxb%2Bzv8RvjTerIYxqPh7QJLDRo3BwVlv7tVEfP8WwqfWlf9oH/gr94uQjwz/wAE%2BvAfhEuP3b%2BLPirFfhPQsLJAT9BX1lY2FjpdnFp2mWcVvbwIEhggjCJGo4Cqo4AHoKoeNPHHgz4ceGbvxp8QfFmm6HpFjH5l7qmrXqW9vAvq8khCr%2BJoeCxsouVfFNf4FCEV82pS%2BbaNqWUZxjasYTxU3OTSUaUIxu3okly1Ztt6LW77Hygn/BOb4/8A7S7jVf8Agor%2B1xq3iOwlO6T4Z/DdpNF8PoO8Urri4vF64Zyjj%2B9Xt/wX/Yf/AGQf2d1il%2BDf7OnhPQ7mADy9Ti0lJbwY6ZuZQ0x/F68U1b/gpR8SP2idXn8D/wDBNP8AZ%2Bu/iA8Uxgu/iV4pSXTPC1g4OCRIwWW8KkcxxBTggqWFCf8ABNr40ftEONT/AOChX7YfiPxjaSndJ8PfAjtoXh9B/wA8pPKxNdqOzuUfnrXn0HgPac2BoOvP/n5J6f8Agyd2/wDuHFrsfo%2BF8Jss4eksRxNiKeDqb8tRSxONfX%2BDFt0r9PbVMOlv7NI9a%2BNP/BQv9ib9nszQfFf9pfwpYXcGfN0y11EXt6mOxtrYSSj/AL5ryr/h6D4/%2BLJ%2Bz/sbfsD/ABR%2BICSf8e%2Bva9ax%2BHNHmB6Ml1d53DuQUU/nXsvwX/Yd/ZB/Z58qX4N/s5%2BE9EuoMeXqUekpLejHTNzLumP4vXqtej7DOK/8StGmu0I8z/8AAp6fdA9P%2B1PDfKv9zy%2BtjJr7WJrKlD/wThVzNeUsR6nyONF/4LO/GQ79R8bfB/4NadJ9xNK02fxDqsP%2B/wCcRatj/Zx3px/4JpfG7x%2BP%2BMhv%2BCm/xl19X/4%2BbPwhc23hu1nHdWit1f5T6Aj619bUUf2NhZ/xpTqf4pyt90XCP4C/4iVnuG0yyhhsIunscLRUl/3EqwxFW/nzp9dGfN3w4/4JHf8ABPj4cXp1kfs66Z4j1ORt1zqfjW5m1mW4f%2B863bvHn6IK958HfDzwB8O7D%2Byvh/4G0fQrXAH2bRtMitY8f7saqK2KK7MPgcFhFahSjH0il%2BNr/ifOZxxVxPxDK%2BaY6tX/AOvlWc18ouXKvK0FboFFFFdR4IUUUUAFFFFABRRRQAUUUUAFFFFABRRRQAUUUUAFFFFABRRRQAV4z%2By//wAlv/aO/wCyzWP/AKhXhevZq8Z/Zf8A%2BS3/ALR3/ZZrH/1CvC9AHs1FFFABRRRQAUUUUAFFFFABRRRQAUUUUAFFFFABRRRQAUUUUAFFFFABRWP8QPiJ8P8A4TeDr/4ifFPx1o3hnw/pcQk1PXfEGpxWVnaIWChpZpmVIwWZRliBkgd6daePvAmoeBIvijYeNdJn8Mz6Suqw%2BIodSiawksGi84Xa3AbyzCYiJBIG2lfmzjmgDWr85f8AguT/AMS/47fAHxf0/wCEeTVdR3f3dviLwgmf/Ilffnw1%2BKfwx%2BM/hC3%2BIPwe%2BI%2Bg%2BLNAu3dbTXPDWsQX9nMyMUcJNAzIxVgVODwQQeRXwP8A8F87eb%2BwNL1u1XM%2BkfCbxDfQ/VPFvgQE/wDfLGvKz3/kTYh9oN/dZ/off%2BFLX/ES8ng/t4inD/wY5U//AHIfotRUdrcxXltHdwNujljDofUEZFSV6p8C007MKKKKBBRRRQAUUUUAFFFFABRRRQAUUUUAFFFFABRRRQAUUUUAFFFFABRRRQAUUUUAFFFFABRRRQAUUUUAFFFFABRRRQAV4z44/wCUhfwv/wCyM%2BPP/Tt4Qr2avGfHH/KQv4X/APZGfHn/AKdvCFAHs1FFFABRRRQAUUUUAFeM/sH/APJENc/7LN8R/wD1Ndbr2avGf2D/APkiGuf9lm%2BI/wD6mut0AezUUU2eeG2he5uZljjjUtJI7AKqgZJJPQUAcx8bPjP8Ov2efhXrfxm%2BK/iCPTNA0Cya5v7p%2BSQOFjRf45HYqiIOWZgB1r5b/Zu%2BBPxO/bk%2BKuk/t4ftneG5NN0PTm%2B0/Bj4T3Z3RaPA2CmqXydJLyQbWUEfuxtPUKEyfDUFx/wVo/aRi%2BIGqQu/7Ofwr1xh4bs5VPk%2BPNfhJVrx1PEllAchAeHJOc7pET7jAAGAK8Omv7Yre1l/Ai/dXSck/jfeKfwLZtc7ulE%2BcpR/t/Ee3n/u0H7i6VJJ/wAR94Ra/draTTm7pQCo729s9Os5dQ1C7igt4I2knnmkCpGijJZmPAAAJJPSub%2BMnxn%2BGH7P3w51L4sfGLxlZ6FoGkw%2BZeX94%2BAP7qIoy0kjHhUUFmJAAJr5GsfBf7Qn/BWe9h8R/Fyw1r4afs6iVZtL8Gea1trfjqMHKTXzIc21m3DLEpy45BPySr2YzHrDzVGlHnqy2iu380n9mPm9XtFN7fqfDnCU83w08yx9VYbAUnadaSveVr%2ByowunWrNbQi%2BWKfPVnThrLqfH/wDwUg8WfGjxfe/BL/gmn8MYviZ4gtJfI1fx7qEjw%2BFNBb%2B9JdDBu3A5EcJ%2BYcqz4K1J4L/4Jd2vxJ8TWvxW/wCChXxl1P40eJLeTzrPQb1fsnhnSn/u2%2BnxkJJgHaXkyHABZM19N/D/AOHfgP4UeEbLwD8M/B%2BnaDounReXZaXpVokEEK%2ByqAMk8k9SSSck1s1hHK3iJKpj5e0f8u1NekftPznzPyR6tbjuGTUnheE6H1ODTTrNqWLqJ6PmrpL2MWv%2BXeGVKKTs6lTVuto%2BjaP4d0q30Lw/pVtY2NpEsVpZ2cCxRQxgYCIigBVA6ADAqzRRXrJJKyPzyUpTk5Sd29W3q2%2B7b1YUUUUyQooooAKKKKACiiigAooooAKKKKACiiigAooooAKKKKACiiigAooooAKKKKACiiigArxn9l//AJLf%2B0d/2Wax/wDUK8L17NXjP7L/APyW/wDaO/7LNY/%2BoV4XoA9mooooAKKKKACiiigAooooAKKKKACiiigAooooAKKKKACiiigAooooA5X43eIvD3hL4T674i8U6Fqmp2VrZFpLLRfDV3rF1I5YCPyrOzhmnmYOVOI42K43cBSR8h%2BEbbxR8TP%2BCMngn4J6D8JvHY8TeHfhP4Tj8R%2BD9e%2BH%2Bq6VdXkelNp/9p6YqX9tCJZZY7a5gWLJ84OCu5G3V9zUUAeCfsTwatrvjX41/GSDwbr2g%2BG/HfxMt9S8LWfiXw9daReXMMPh/SLGe8eyvI4ri2ElzaTqFljRnEIlxiRWPzP/AMFfvCfxX1LVvFC%2BNvGXh7UtCk/Z38cXPhrTdK8MT2d3YJBrvg2WQXNzJezJdk7EIZIbcLtOQ2Rt/ROvjn/gp9o39v69qemBNzN%2ByX8WJI19XS48Kuo/NRXDmkPaZZXj3hP/ANJkfVcC4n6nxxlVf%2BXE4d/%2BV6X%2BZ9PfBDWf%2BEj%2BC/hDxDu3fb/C%2Bn3G7PXfbRt/Wuoryv8AYW1n/hIf2KPhBrZfc1z8MdBeQ/7f9nwbh%2Bea9UrfCT9phac%2B8Yv74xf6nl5/hvqWfYzD/wAlarH/AMBq1Y/%2B2hRRRW55IUUUUAFFFFABRRRQAUUUUAFFFFABRRRQAUUUUAFFFFABRRRQAUUUUAFFFFABRRRQAUUUUAFFFFABRRRQAUUUUAFeM%2BOP%2BUhfwv8A%2ByM%2BPP8A07eEK9mrxnxx/wApC/hf/wBkZ8ef%2BnbwhQB7NRRRQAVz/wATfix8LPgp4Rm%2BIHxl%2BJfh/wAJaDbSJHca34n1mCwtIndgqK007qilmIABPJOBXQV4F%2B2kmp%2BGviP8FfjVfeCvEHiDwx4J8eX134jtPDHhu71i7svtGhalZ298tlZxS3E4SW4EJ8qN2QXe8gIrsoB654r%2BLfwq8B/D5vi144%2BJvh7RvCqW0Vw/ibVtagt9PWGUqIpDcSOIwrl0Ctuw24YzkVk%2BJP2mP2cPB3hPQPHvi79oHwRpWheLJYovC2tal4rs4LTWZJV3RpazPIEuGdeVEZYsORmvl3wr8MtW0H/gn78NdE8XW/i3wf4o%2BF%2Bvad4l0bT4vhRq3iVdKeSW5ay0%2BbTbBBJfRwWl0LeRLWTNs8St5kZiBryXQPhL8afhT8NLfxb8efgt4z8cW/jb4efFrTtK0bRvAFzcXFpeeIfEaalZWdxYW6ynS0vbUjPnsIrUw%2BTcTKQGYA/TOvGf2D/%2BSIa5/wBlm%2BI//qa63XWeBfCHxc8Nfs4%2BHvAlv4x0yDxtpvhKwsp9c1nTZdStft8VvGks0kMdxbvOpdXOBNGTnO6uF/4J02/iW0/ZuvrXxlq1jf6vH8W/iGup32mac9pbXE48Z615kkUDzTNChbJCNLIVBALtjJAPdK%2BVv%2BCo/wAU/GWo%2BC/DX7EfwT1Iw%2BPPjhqbaJDcRZLaVoqru1K/YDkKsGU7Eh3KnKV9SX19Z6ZZTalqN1HBb28TSzzyuFSNFGWZieAAASTXx/8A8E8tOv8A9q346%2BO/%2BCmnjKylFhrzv4X%2BD9rdRkG08OWszCS6Ct91rmdWc912uASrivJzSc6qhgqbtKrdNrpBfG/mnyrzl5Hh51OdeMMvpO0q102t401/El5NpqEf70/I%2BovhD8KvBnwO%2BF2gfB/4eaYLPRPDelQ2GnQDGfLjULuYj7zscszdWZiTyawP2of2m/hZ%2ByP8HtR%2BM3xa1RorGzxFZWNsA91qd2%2BfKtLdM/vJXI4HQAMzEKrEdH8U/id4J%2BC/w51r4r/EfXI9N0Lw/p0t7qd5L0jiRcnA6sx4VVHLMQBkkV8pfssfCL4hfty/F7TP%2BChX7Vvh2XT9B08GX4G/Da9IZNKtHwV1i6T7r3cwCunUINrDOIytYvETocmEwiXtJLT%2BWEVpzS8ltFfalZLTma/T%2BEeGstq4Seb5s3Ty7DNRajZTrVLXhhqPaUoq852caFK9SV5OlCcvwX/ZL%2BMH7YnxD0v9rf8A4KKaTHBBYSi7%2BHPwTDmTT/DqHlLm/UgC6vSMEhhhO4BxHH9jgADAFFFdGDwVLBQajdylrKT1lJ92/wAkrJLRJLfz%2BJOJ8w4mxMJVlGnRpLlo0aa5aVGF78sI3e71nOTlUqSvOpOUn7pRRRXYfOBRRRQAUUUUAFFFFABRRRQAUUUUAFFFFABRRRQAUUUUAFFFFABRRRQAUUUUAFFFFABRRRQAUUUUAFeM/sv/APJb/wBo7/ss1j/6hXhevZq8Z/Zf/wCS3/tHf9lmsf8A1CvC9AHs1FFFABRRRQAUUUUAFFFFABRRRQAUUUUAFFFFABRRRQAUUUUAFFFFABRRRQAV8zftjaN/wkf7Qul%2BHtm77f8AszfFC32%2Bu%2B78Krj9a%2Bma8Q%2BKemRa1%2B3l8OtHnxsu/gf8QIXz6NqnhFT/ADrOrD2lKUO6a%2B9NfqdeAxDwePo4hfYnCX/gM4y/9tM3/glXrP8Ab3/BOv4Q32/d5fg23t8/9cS0OP8AxyvoGvlX/giZqcupf8EyPhmlzkTWaaraTKeqmLVrxAP%2B%2BQK%2Bqq4cmn7TKMPLvTh/6Sj6rxKw6wniLnNFfZxWIX/lao/1CiiivSPigooooAKKKKACiiigAooooAKKKKACiiigAooooAKKKKACiiigAooooAKKKKACiiigAooooAKKKKACiiigAooooAK8Z8cf8pC/hf8A9kZ8ef8Ap28IV7NXjPjj/lIX8L/%2ByM%2BPP/Tt4QoA9mooooAKKKKACiiigArxn9g//kiGuf8AZZviP/6mut17NXjP7B//ACRDXP8Ass3xH/8AU11ugDif%2BCs/xT8S%2BD/2UJ/hB8OJv%2BKx%2BLut2ngfwvErEN5l%2B/lzucchVtxMN/8ACWU5r3f4NfCzw18D/hL4a%2BDvg6HZpfhjQ7bTLLKgFkhjVA7erNjcT3JJ718x3J/4ap/4K6Q2g/0jwt%2Bzh4R82TvG/iXVkwoPZvLtFyOpSRD0Jr1j/goH%2B0tc/sp/sreJPiZ4fiM/iW5jTSfBlgib5LvWLo%2BVbIqfxlWJlK91iavCpYikq2JzCq/ch7i/ww1k16zdvPlSOXhTKcbxVxQ6OEjzVK1SOHpdtJWk79F7SUnJ7KNKTekTxT9oCaX/AIKOfthwfscaFK03wl%2BFF9b6v8YruI/uta1UHdaaJuHDIhBkmHPKlTteNSftKGGG3hS3t4ljjRQqIi4CgcAADoK8g/YT/Zd0/wDZH/Zt0P4Xyv8AafEFwh1Pxpq7yGSXU9ZuAHup3kPL/P8AIpPOyNK9hrqy3D1YQliK6/e1LOX91fZgvKK085OT6n6DxtnOBxWJpZRlUr4HBKVOk9vayb/e4iS/mrzXMr6xpRo09ou5RRRXpnxAUUUUAFFFFABRRRQAUUUUAFFFFABRRRQAUUUUAFFFFABRRRQAUUUUAFFFFABRRRQAUUUUAFFFFABRRRQAV4z%2By/8A8lv/AGjv%2ByzWP/qFeF69mrxn9l//AJLf%2B0d/2Wax/wDUK8L0AezUUUUAFFFFABRRRQAUUUUAFFFFABRRRQAUUUUAFFFFABRRRQAUUUUAc78XPil4N%2BB/wt8RfGP4h372uheFtFudU1aeKFpZFt4ImkfYi5aRyFIVFBZmIABJFcb8Lf2tPB3xA8LeM9e8W%2BA/E/gTUPh78/jDw34ut7Vr7T4TZpexz/6BcXUM0bwPuUxSudySRkLJG6DU/ar%2BCt1%2B0Z%2Bzd42%2BB2na9HpV54n8OXVjp2pzQmWO0umQmCZ0BBdFlCMyAgsoIyM5rzPwB8Bv2p728%2BKfj3x/e%2BEPCviz4p6YmmpdeEPEV1qMXhaG00xrexnga4sbc30xuprmdw6QLGpiQeaULMAdd%2BzF%2B2N4R/af1TU9A0v4aeK/Cmpab4c0bxAth4qSwLXek6qLr7DexPYXdzHtkNlcjy3dJk8sF41DoWr%2BOP8AlIX8L/8AsjPjz/07eEK4X/gnv%2Bxd4z/ZW8SeJNd1b4cfDnwFpmr%2BFtC0seD/AIXajc3NhfahY/a/tOu3DT2dri8uVuIIm%2BSRylohkuJjt8vZv/hj4b8Hf8FNvBfjPSdS8QzXniH4PeOJL%2BHVfF2o31pEU1bwlgW1rczyQWQO45W3SMNgbgdq4AOS/wCCMH%2Bgfsgaj4Q6f8I/8TPEmnbP7u2/kfH/AJEr60r5L/4JL/8AEu0T4/eEDx/Yv7Tfiy3iX/pkWt3U/Q7jX1pXk5FplFFdlb7pTX6H6B4q%2B94i5lU/nqKf/gylQqf%2B5Aooor1j8/CiiigAooooAKKKKACiiigAooooAKKKKACiiigAooooAKKKKACiiigAooooAKKKKACiiigAooooAKKKKACiiigArxnxx/ykL%2BF//ZGfHn/p28IV7NXjPjj/AJSF/C//ALIz48/9O3hCgD2aiiigAoorn/ib8WPhZ8FPCM3xA%2BMvxL8P%2BEtBtpEjuNb8T6zBYWkTuwVFaad1RSzEAAnknAoA6Ciue8V/Fv4VeA/h83xa8c/E3w9o3hVLeK4fxNq2tQW2nrDKVEUhuJHEYVy6BW3YbcuM5FYPiL9rD9lnwh4N0L4jeLP2lfAGl%2BHvFLbfDOu6j4ysYLLVz1xazvKEuD/1zLUAd/XiH7FOrWWgfs8eJ9d1GTZb2Xxd%2BJU87/3UTxnrjMfyBr28EMAykEEcEV8gjxp/wrz/AIJd/HTxkkuyWy8R/F42zZx%2B%2BbxVr6Rf%2BPstY4iqqGHnVf2U39yb/QwxVZYbC1Kz%2BzGUvuTf6Fz/AII0eHr3U/2RJP2jvFY3%2BJ/jD4v1bxZ4imYch5buSGKJSefLWKFSq9B5jYrM8df8Zmf8FRtE%2BG0X%2Bk%2BBv2crCPX9fA5iuvFN4v8AoULdibeEGYEHKuHUjmvQv2YNU0n9lv8A4JheC/F3iCEJb%2BD/AIOWusanETj549OF1Mv1L7h75rH/AOCSvwt1Twb%2Bx/pfxY8bO1x4w%2BLF9P428W6hIuGuLi/bzYsd1UQGHC9ASxGM189QoudDB4B7cqqT8%2BWzSf8AiqSu/wDCz7fw3o/6scB4nPpfxlThhaL6qtiacp16nrTw7q2e6niL6WPpuiiivpz48KKKKACiiigAooooAKKKKACiiigAooooAKKKKACiiigAooooAKKKKACiiigAooooAKKKKACiiigAooooAKKKKACvGf2X/wDkt/7R3/ZZrH/1CvC9ezV4z%2By//wAlv/aO/wCyzWP/AKhXhegD2aiiigAooooAKKKKACiiigAooooAKKKKACiiigAooooAKKKKACiiigAooooAK8Z8cf8AKQv4X/8AZGfHn/p28IV7NXz38XPHFj4a/wCCnnwM8K3zKD4j%2BEHxFtrTPUzRX/hK4wPby4pT%2BAqZSjBXf9X0JnOMFeXl%2BLt%2BZx//AATi/wCJR%2B0V%2B1R4Q6eR8aW1Hb/192kb5/HZX1pXyX%2Bxn/xJ/wDgpV%2B1z4WPCtqHg3UYR/e8/SZC5H/AgBX1pXl5LpgOXtOovuqT/wAz9C8Tve4s9r/z8w%2BDn/4FgsM//bQooor1j8/CiiigAooooAKKKKACiiigAooooAKKKKACiiigAooooAKKKKACiiigAooooAKKKKACiiigAooooAKKKKACiiigArxnxx/ykL%2BF/wD2Rnx5/wCnbwhXs1eM%2BOP%2BUhfwv/7Iz48/9O3hCgD2aiiigArwL9tJNT8NfEf4K/Gq%2B8FeIPEHhjwT48vrvxHaeGPDd3rF3ZfaNC1Kzt75bKziluJwktwIT5Ubsgu95ARXZffaKAPgnU/h58RNH/4J5fCT4bah4D8f6BqXhDxzoeratP4X8IXF9rHgfTmubi6tWsrT7NcQ6hNaxPbWckEcV0kCvIzRP5QU%2BP8AjT4HfGCP4IeHbPVPC/xi8Px3ng34tafY%2BKPCfw0m1LWfFDaz4hS7t7XWtN%2BxTf2UNUjUXszrFZGOTKRzaaoMB/VaigDi/C2j/EyP4A6NoegwaF4S8Vx%2BGLOFbe80%2BXVNP0q7WCMPEYkuYXuIkIZBidCQAd3r8LftIat4x0D/AIIp/EjwzrmsWN/4m174x%2BLtElu9M097O2u7uf4i6ikrRQPNM8KMvmlY2lkKggF2xk/o7X5x/HH/AIqf4GfB74PR/N/wlP7dniYXsX96yt/G3iGab8sIa8rO21lFZLeUeX/wJqP/ALceLxG2sixEVvKPKvWbjD/289k/4K0TXXhr9h3TP2aPAlwYdS%2BJPifQfAWhFB8wE86b%2BPQwwSKe2Hr6q8MeHNI8HeGtO8I6BaiCw0qxhs7KFekcMSBEX8FUCvlT9o//AIvX/wAFVvgb8Eoz5th8OfDGr%2BP9dgHKmSQixsWPoyTZYd8NX1zU4FKrmGIrLaPLTXpBXl/5NP8AA/W%2BJUsr4KyTKo6OcauLmvOtP2VK/pQw115T03YUUUV65%2BfBRRRQAUUUUAFFFFABRRRQAUUUUAFFFFABRRRQAUUUUAFFFFABRRRQAUUUUAFFFFABRRRQAUUUUAFFFFABRRRQAV4z%2By//AMlv/aO/7LNY/wDqFeF69mrxn9l//kt/7R3/AGWax/8AUK8L0AezUUUUAFFFFABRRRQAUUUUAFFFFABRRRQAUUUUAFFFFABRRRQAUUUUAFFcd%2B0H8ZtC/Z3%2BB3iz45%2BJNMur6z8KaBc6lJp9jt8%2B8aKMslvFuIXzJGCxruIG5xkgZNcZ8IP2p9Z1mz%2BIel/tEeANN8D%2BIPhhHDd%2BJ7TR/Ecms2B06ayF3FeQ3LWttI67VnjdGgRlktpAN6lHYA9kr4F/4Kh%2BO5/hV/wVA/Yn%2BIiuyQx6r4s0m8kH3Y4dRk0GyZm9FHnDk9OK%2Bj/2K/2tL/8Aa78K6l45/sjwLY6fELVrKy8LfEqPX9RszMjyG21aCK1ij028jTyt0CS3A3M4EmEDP8yf8Fx/Bup%2BKJNE1/w8CNW8IfB7xb4k0qYLnyZLLxF4Kmd/whEv515ucOccrqzhvFcy/wC3Wpf%2B2s8jPnUhk1epT%2BKEeZf9uOM/xUGvmepfA7/iSf8ABYT46aZ0/tz4beGdRx/e8kPb5/XFfWlfF1144sPCf/BUj4SftAWzD/hHPj/8GJdDs5WOUivrZk1KElv9uGRY1B6nOPb7RrLJ5R5K0F0qTfylyzT%2Balc/VuPmsU8pzCm7wr4HC2fd0ozoTXrGVNJ%2Bq7oKKKK9c%2BACiiigAooooAKKKKACiiigAooooAKKKKACiiigAooooAKKKKACiiigAooooAKKKKACiiigAooooAKKKKACiiigArxnxx/ykL%2BF/wD2Rnx5/wCnbwhXs1eM%2BOP%2BUhfwv/7Iz48/9O3hCgD2aiiigAooooAKKKKACvzj8G/8Vp%2B2T%2Bzr8Ol%2BeDSfjN8cfEeox/3fK8TaxHbt/wB/S1fo5X5qfsba9bX3/BSLxh4pvcPp/wANPB/xMuZsn/V3Vx8SNcc/TMCmvJzhp0KUH9qpTXyUnJ/hA8fOYTxEMPhoK7qVqMUu/v8ANb/yRfee5fsKf8Xj/bg/aV/agl/e2dp4os/APh6XqIo9LgH2wKe6vPIj%2Bma%2Bua%2BWP%2BCL/h240r/gnd4K8Tatl9V8V3Wqa9rNy33rm4udQnYSH3MYiH4V9T08kT/sunUe9S836zbl%2BCaXyP1fxQqQXHWMwdN3p4VxwsP8OGhChdf4pU6kv%2B3%2B9wooor1T4AKKKKACiiigAooooAKKKKACiiigAooooAKKKKACiiigAooooAKKKKACiiigAooooAKKKKACiiigAooooAKKKKACvGf2X/8Akt/7R3/ZZrH/ANQrwvXs1eM/sv8A/Jb/ANo7/ss1j/6hXhegD2aiiigAooooAKKKKACiiigAooooAKKKKACiiigAooooAKKKKACiiigDjv2hPgzof7RPwN8WfAzxJql1YWfivQLnTZNQsdvn2bSxlUuI9wK%2BZGxWRdwI3IMgjIrzz4a/sl%2BPLGXxzqnx3%2BLOheMNQ%2BJ0P2LxzJpfg2bSoJdOi08WdtaWcbX9w1sF3XEsjyPOZHuX2%2BUoRV90ooA8E/ZF/Yw8Q/s3%2BJ5PFnjL4q6X4jubT4f6J4I0CPQ/B40aK30fSnuntzcp9pn%2B03RN04aVfJiAXEcEW593G/Hj9mD4O%2BI/21LfRvC/ww8OaPq3xN/Z5%2BI2n%2BKta03RYLe61YyX3hWFHupo0DzlRM%2BC5YjccdTX1bXjPjj/AJSF/C//ALIz48/9O3hCpnCNSDhLZpp%2BjVv1IqU4VacoSV000/Rpp/g2fFU%2Bq%2BJ/iH/wRF%2BE/wC0f4dtHfxh%2Bz/rNhq0FuTiRP7Gvnsp4HPZPsq%2BYy9CEGa/SnwZ4t0Px94P0nx34YuxcabrWmwX%2BnzjpJBNGskbfirA/jXyH/wT78F6DNe/tT/sS%2BLrXzNLsPinqkv2E8bNI1y1EsUQHpsEuD33Guo/4JBeNNeu/wBko/ArxxdeZ4k%2BD3irUvBGtbuCfscx8hgDzs8h4lU9D5ZxXy%2BSzlRrUlL/AJeU%2BV/46DcH83C33H1vD9SWeeC9BTd6uWVuR9/Y4i8H8o4nDfL23mfU1FFFfVHyoUUUUAFFFFABRRRQAUUUUAFFFFABRRRQAUUUUAFFFFABRRRQAUUUUAFFFFABRRRQAUUUUAFFFFABRRRQAUUUUAFeM%2BOP%2BUhfwv8A%2ByM%2BPP8A07eEK9mrxnxx/wApC/hf/wBkZ8ef%2BnbwhQB7NRRRQAVz/wATfix8LPgp4Rm%2BIHxl%2BJfh/wAJaDbSJHca34n1mCwtIndgqK007qilmIABPJOBXQV4F%2B2kmp%2BGviP8FfjVfeCvEHiDwx4J8eX134jtPDHhu71i7svtGhalZ298tlZxS3E4SW4EJ8qN2QXe8gIrsoB654r%2BLfwq8B/D5vi145%2BJvh7RvCqW8Vw/ibVtagttPWGUqIpDcSOIwrl0Ctuw25cZyKxvEf7UP7M/g74Zab8a/F37RPgXSvBusOi6R4t1LxdZQaZfM4YoIbp5RFKWCMQFY52nHQ18h6n8PPiJo/8AwTy%2BEnw21DwH4/0DUvCHjnQ9W1afwv4QuL7WPA%2BnNc3F1atZWn2a4h1Ca1ie2s5II4rpIFeRmifygp870n4YftLfDHw38NPixY3HxR8P2OjaT8Vk0rVdA%2BEx1jX9R1bVPElvf6Ze6jpT2U/2B9SgjuZpyLe2WFpGhDaes/kqAfpta3VtfW0d7ZXEc0M0YeGaJwyupGQwI4II5BFfk1%2Byrqt14etf%2BCjfxlvHx/YmteL9F0WX%2B651PxBMy5/67TRH8a/Tfw5J8a/EPwG0ie%2B/sLwt8QLzw1ZyahHd6ZJqOnaZqbQoZ4/JiuYGniSQuoCzoSADu9fy10TS/Fnw7/4JRftoeJvFV/Z3/iXxV%2B1H4t0ua80uwe0gvnPiaKzdoYXllaJC7XLLG0shVTtLuQWPgcQtxwqqfyKpL7qU0vxkexwjlX9teI3D%2BDe0sZRv6c0d/wAfxP0f/YC8Jf8ACD/sPfCPww0WyS3%2BHOjtcJjpK9nHJJ/4%2BzV67Wb4M8OW/g/wfpPhK0x5Wl6bBZxY6bYo1QfotaVexhqXsMNTpfyxivuSX6GeeY95rneKxr/5e1alT/wOpUn/AO3IKKKK3PLCiiigAooooAKKKKACiiigAooooAKKKKACiiigAooooAKKKKACiiigAooooAKKKKACiiigAooooAKKKKACiiigArxn9l//AJLf%2B0d/2Wax/wDUK8L17NXjP7L/APyW/wDaO/7LNY/%2BoV4XoA9mooooAKKKKACiiigAooooAKKKKACiiigAooooAKKKKACiiigAooooAKKKKACvGfHH/KQv4X/9kZ8ef%2BnbwhXs1eM%2BOP8AlIX8L/8AsjPjz/07eEKAPI9S1Ifsvf8ABXmTXvE8X2bw1%2B0N4LtNOsNTBxH/AMJFpQKpby9lL2rAIScszBQDzivPrP8Aww7/AMFONW1bxbb/AGX4eftJR2EVhq4bEGm%2BKrOIxC3kHRPtUZ3Bs/PIQMYVivsH7fv7Lsv7WX7Nuq%2BAvDl79g8W6TPFrngLWEfZJp%2BtWpMltIr/AMG45iZuyysRyBXAfD67%2BH//AAVy/wCCej%2BHfifYHTNbu4X0zxLAkW258N%2BJbM7WlRTgxukoWVVyCY5QrcMwr5evh61LFSoUvjUnWpX2b2qQfrd%2Bimn9lnp%2BHud4DhziPFZRmt/qOPhKM2leUYznCUpwXWeHrxp14x%2B3B1Ifauvqmivmv/gnZ%2B0741%2BI/h3Wv2Zv2jriO2%2BMPwruRpfi23kk%2BbV7YAfZtWizgvHPGULMB945IUSIK%2BlK9/CYqljcPGtT2fR7prRp9mndNd16G/EWQ47hnOKuXYuzlBq0ou8JwklKFSD%2B1CpBxnCS3jLo1JIooorpPFCiiigAooooAKKKKACiiigAooooAKKKKACiiigAooooAKKKKACiiigAooooAKKKKACiiigAooooAKKKKACvGfHH/KQv4X/9kZ8ef%2BnbwhXs1eM%2BOP8AlIX8L/8AsjPjz/07eEKAPZqKKKACiiigAooooAK/NX45%2BG9Lh/Y38L/DDTI23fEf9vHxDZXqMcmRpPHeuSMf90C3Qe2BX6VV%2Bcuo/wDFUfFj9mr4Wfe%2B1/tXfFnXvL9f7M8Ta3Nu/DzK8jPEpZbOP8zjH/wKcI/lc%2B/8LoqHHWFxL/5cRr1vT2WGxNS/yai/kfo1RRRXrnwAUUUUAFFFFABRRRQAUUUUAFFFFABRRRQAUUUUAFFFFABRRRQAUUUUAFFFFABRRRQAUUUUAFFFFABRRRQAUUUUAFFFFABXjP7L/wDyW/8AaO/7LNY/%2BoV4Xr2avGf2X/8Akt/7R3/ZZrH/ANQrwvQB7NRRRQAUUUUAFFFFABRRRQAUUUUAFFFFABRRRQAUUUUAFFFFABRRRQB5h%2B2n8XvFXwD/AGTPiH8Y/A0dqdb8P%2BFLy60d76Ivbw3QjIillUEFokcq7rkZVWGRnI4L4O/G/wAT/BHVfjf4O/aS%2BNt/4s0L4RadY%2BIJfHWt6VZW95Hpk2mPdXEVxHp1vBA7QtbXEimOFWMU0SsHZS7%2B8%2BNPBvhX4i%2BDtW%2BH3jrQLXVdE13TZ9P1jS72IPDeWs0bRywyKeGR0ZlI7gmuQ%2BD37Lfwb%2BA6N/wrTT9eglm1GS%2Bv7zVPGmq6lcajcPbxWwe7mvLmWS82QQQxxidnEKxqIwgFAHgX/BL/APbg1b9rzx/8X7XxH%2B0D4N8VNp2taVqPh7w14T1nTb1fDWmXmnQzLYtNZMxuXikLRzTu8gNws4jZYwka9xf/ABO8N%2BMf%2BCm3gvwZpOm%2BIYbzw98HvHEd/NqvhHUbG0lL6t4Swba6uYI4L0DactbvIFyNxG5c%2B0%2BGvhj4H8H%2BMfEnj/w7of2fV/F11bXHiG7%2B0yv9rkt7dLaFtrMVj2xRouECg4yckk15v44/5SF/C/8A7Iz48/8ATt4QoA9mr4r%2BO%2BjfEj/gm7%2B0X4l/bW%2BGnhSfxF8IPH08Fx8YvC%2BlwlrzQbxAUOuWqA4kQgkzrwScsTjDR/alMuLeC7ge1uoElilQpJHIoZXUjBBB4II7VxY3B/W6a5Zcs4u8ZLo9tuqa0kuqfR2a8/McAsdSjyy5KkHzQkteWVrbdU07Si9HF20aTXzP%2B0P%2By78PP22/Dfhn9rn9lH4sW/hz4jabYLd%2BAfiboTboryE5P2O8UD9/bMSyMjgtGSw2n543d%2Byn/wAFCNP8deLW/Zl/ay0O3%2BG/xq0thBeeG7%2BXZaa72W70yZjtnjkwSIwxccgbwpauL1/9lP8Aaf8A2DPF%2Br/FL/gnhBp/ibwFq182oeI/gNrNx9nSGY/62bR7k5Fu7dfJYbOMAPiNF1bD4wf8E9P%2BCq3hOT4KfGLw1DY%2BMdPlaK58C%2BM4f7M8S6FdgDcbfJWTI4O6FmUjAcdVrw1Uq0sVeNqVeXxQlf2dW3WMv5uz%2BNLScJJKR9rw/wAf5Xj8vpcOcZU5JQ0o1YWdWjrdqjKbUa9CTfNLDTlGcG3Kk6cnL2n1xRXxtZ%2BAP%2BCmn7D8ZsfhPrtl%2B0P8OrM/6LoHivURY%2BK7CAdI470jybsKM8yDeeFVQOK7D4Uf8FZv2RPHOuj4f/FHxFqPwp8ZRkJeeEvijpz6RcQueOJZf3Dgn7v7wM3HyjOK9Snm%2BGUlTxKdGfaeif8Ahn8EvlJP%2B6e1i/DrOqlCWLySUcww61c8Pec4r/p7h2vrFJrrzUpwT2qtWb%2BmaKh07UdP1exi1TSb%2BG6triMPBcW8oeORT0ZWUkEH1FTV6qaa0PgZRlGTTVmgooooEFFFFABRRRQAUUUUAFFFFABRRRQAUUUUAFFFFABRRRQAUUUUAFFFFABRRRQAUUUUAFFFFABXjPjj/lIX8L/%2ByM%2BPP/Tt4Qr2avGfHH/KQv4X/wDZGfHn/p28IUAezUUUUAFFFc/8Tfix8LPgp4Rm%2BIHxl%2BJfh/wloNtIkdxrfifWYLC0id2CorTTuqKWYgAE8k4FAHQUVz3iv4t/CrwH8Pm%2BLXjn4m%2BHtG8KpbxXD%2BJtW1qC209YZSoikNxI4jCuXQK27DblxnIqpd/Hn4G2Hwqi%2BOt98Z/CcPgiaKGWHxlL4itl0qSOWVYonW7L%2BSVeR0RSGwzMFGSQKAOsr83/AIB39prn/BRT4b6XfTAReCtR%2BNOvMSCfL%2B1%2BOdYsQcDnJICjHJPFfpBX5of8E/R/wmH/AAUh%2BLXiH748HT%2BItDz/AHDd/E/V73H4gZryc295UKf81WH4c0v/AG1H6B4f/uZ5ri/%2BfWAxVvWoqVBff7WSP0a/4TDSf%2BfTVP8AwR3f/wAapf8AhMNJ/wCfTVf/AAR3f/xqvnbx9/wWR/4JvfC/x3rXw08c/tG/Ydb8O6tc6ZrFl/wiGsS/Z7q3laKWPfHaMj7XRhuUlTjIJHNZP/D8v/glp/0dD/5ZOt//ACFVSzzJYScZYmmmv78f8zOj4W%2BJmIoxq0skxcoySaaw9VpppNNNQs0000%2BqafU%2Bn/8AhMNJ/wCfTVf/AAR3f/xqj/hMNJ/59NV/8Ed3/wDGq%2BdvAP8AwWR/4JvfFDx3ovw08DftG/btb8RatbaZo9l/wiGsRfaLq4lWKKPfJaKibndRuYhRnJIHNd9%2B398YPiZ%2Bz7%2BxN8U/jj8G7TTZvE/hLwPqGq6OurzMlussELSb32xybtqhmCbcOyhCyBi69eFxuDxsXLD1IzS35Wnb1sfP55wzxJwxWhSzjBVcNKabiqtOdNySdm0ppNpPRtddD0v/AITDSf8An01X/wAEd3/8ao/4TDSf%2BfTVf/BHd/8AxqvnvU/23Pjb4V%2BIfjnwX8QvgV4E0LT/AIZfDy08TeOfE938VLo2Nu93FqjW9tbY0cSzqH0%2BMSyukRRLgtHHM6CKTmfht/wUq1f4q6p4Z0PVvhPq/hfW4vjRL4O8Q6Qst5bQyIfB%2Boa/DPt1jR7S9eF0hiTb9ntJBKgZZZIVK3HSeGfVX/CYaT/z6ar/AOCO7/8AjVH/AAmGk/8APpqv/gju/wD41Xzz%2ByV%2B3z8Sf2h9P0S48c/swf8ACP3fiz4TaL8QfCel%2BHvGsOqz3WnXzBHgnNxBZRW9xCXiYqHkR0fIcMpjrqf2q/FnxV1L4tfC/wDZ4%2BFvxX1DwI3ja61i61bxXo2m2N1exW9hZCRbaBb%2B3uLdWkmmhZmeJz5UEqrtZhIgB67/AMJhpP8Az6ar/wCCO7/%2BNUf8JhpP/Ppqv/gju/8A41XztZ/tBftI/FD/AIJi%2BFv2gfh3YSv491vQNBn1q48NaKt3NFBJe2sWr3%2Bn2cgcTypZm8ura3ZZd7pEhWXO1uL%2BGvxv/aM%2BNfwA%2BJq%2BDPGfxv1DWPhd8UJtD0e80Hwn4X0rxT4osW0nTtQie6s9fs4LK32f2kVKrFaystshKB2eMgH17/wmGk/8%2Bmq/%2BCO7/wDjVH/CYaT/AM%2Bmq/8Agju//jVfB97%2B2p%2B1F4p%2BET/HbSfjhYWh%2BG3wB8B%2BOte0bw5oVs2m%2BNdR1WW%2BOowyG9t2u7e2MentFbiFreVJZnMu/YIx7R4z%2BLXj/wCEX7Y8GjN%2B0rq/iTwvaeH9Y8TfFXw3qmh6YumeB9AS3laxuI7i1tI7pZ5LiLYkU805nijvJFRfJBAB9D/8JhpP/Ppqn/gju/8A41V%2Bwv7TU7RL6xnEkUgyrAEd8EYPIIOQQeQRXx7/AMEzf29br9sb43fFiyv/ANoPwf4ksY7LQ9c8I%2BD/AA1q2m3UnhrT7qO4DWsslozPNOoS2NwXeRY7mWSNGEYQV9Z%2BD/8AkEzf9hS%2B/wDSuWgDVooooAKKKKACiiigAooooAKKKKACiiigAooooAKKKKACiiigAooooAKKKKACvGf2X/8Akt/7R3/ZZrH/ANQrwvXs1eM/sv8A/Jb/ANo7/ss1j/6hXhegD2aiiigAooooAKKKKACiiigAooooAKKKKACiiigAooooAKKKKACiiigAooooAK8Z8cf8pC/hf/2Rnx5/6dvCFezV4z44/wCUhfwv/wCyM%2BPP/Tt4QoA9mooooAK8o/aS/Yg/Za/a1slj%2BOnwg0zVb6JAtnr0Km21K0xyvl3UJWVQDghdxXI5U16vRWVahQxNN06sVKL6NJr8TDEYbD4uk6VeCnF7ppNfc/68z4/h/ZE/4KK/s1r5f7JH7a1r408P2/Nn4K%2BOGnNeNEg/gXU7bFwRjhVKqq4Fc98T/wBqT4m33h5vBf8AwUV/4JG%2BIdc0uHIl1bwXY2fi3T8d5xHxJbL3ySXXGetfcNFeXPKFGDjQqyjF/ZdqkPTlqX08lI4cNl%2BMyqvGvlWMq4ecXeNpOSi/7vM%2BaP8A27UR%2BW3gs/8ABJC91eWX9kz/AIKA%2BO/2edc84tcaCfEV7pljFMeStxa6mnlOM87VlCj9K918E3n/AAVL0axF/wDAz9rz4FfH3R4lz5utWJ069lj7bJNNd4N3QbnOD1619YfED4N/CH4s2n2D4p/Cvw54lg27fJ1/Q7e8XHpiZGFeEeNP%2BCOX/BOLxpenVj%2BzZY6LfBt0N54X1W80xoW9VW2mRB/3zivN/sXH4fWhyr/BKpS/8l/eU/8AyVH3S8TfEuSUc1WEzOP/AFFUVKp/4N5fa/8AlZ/kYY/by/bc%2BHA8v4%2Bf8EsvG5ji/wBZqHw08R2fiATD%2B8kCbJF/3WOaltf%2BC0X7FmkzpZfGEePfhxdM202vjv4fX9s6t/dYwxyqD%2BOPeoh/wSasfC3z/Bn9vH9oTwiE/wBTYQfEM3dinp%2B4miOfxam3H7F3/BSPw9bva%2BCf%2BCqc%2BpWhXadM8ZfCXTL0SD0ecOHP5c0c3ElDZSl6qlP8YypS/Af%2BunDGJ/5GPCsoPrLCY5xXyp4iNWPy5vI9Q8E/8FG/2DPiEEHhf9rvwA0kn%2BrgvvEsFpK3sI7hkYn2xXq3hrxt4M8Z2/2zwf4u0vVocZ83Tb%2BOdceuUYivhDxt%2BwH%2B3zr29/Efw1/Y48fsfvXPiv4Z3Vpcv6kSWyEqx9jXlfiX/gmD8bTcfbtZ/wCCVPwZ1K6Q5S58A/F7V9FYH1RZJgo/EGj%2B2M7pfxMNf/t2ovy9ohf2t4UYj4oZphX/AHsNhsTFfOlWpSf3X8j9VqK/JYfsnftieCuNB/Yu/aO8GpH9yX4eftaWNwv/AAGOSF2x7E5oGp/8FFfA/Gl3P7aWn7On2vRtJ8UY/No9/wDWj/WarD%2BJhZr0v/7dTQcnhjW/hZ/Kn5V8ux1P73TVeP3Jn600V%2BS4/bM/4Kb%2BD/8Aj7%2BJv7QDonRPGP7H1nAg%2BslrdszD3xR/w9v/AOCgfhT/AI//ABN4Mm29f%2BEw%2BCviWy/P7IHx%2BFH%2Bt%2BXR/iU5x/7dT/VB/ZXCFT%2BBxLl7/wAc8VR/9PYGNj9aKK/Jn/h/18f/AA0Qvi9fgpdODgpaab4rsyT/ANt7NgPxrT0//g438YQ4F1%2Bzl4I1f1On/E9rHP8A4F2Qx%2BNUuM%2BH27Oo16xf6Njjw7gq3%2B751ltT0zHCx/8ATro/jY/VOivzS0r/AIOL9ElUNr37KlrbD%2BL7H8X9InI/76VK2bf/AION/wBnS2Xd4i%2BBHiiH%2B9/Z/iLR7r8sXa5rePFnD0v%2BX6XqpL9DSPB2Z1XajXwlT/Bj8BL8sYj9FKK/P7SP%2BDj/APYb1OTyZvhp8UoHBwx/sCwlUfQx3zZ/Kun0z/gvz%2BwZqABuLX4gWYPe48HO2P8Av27VtDibh%2Bfw4mH3v/I0lwJxXHbDxf8Ahr4WX/pGNkfbVFfIFp/wXU/4JxTAHUPilr1gO5u/BGpcf98QNWnY/wDBbr/gl9qB2x/tRQxt3W48J6vHj/vq0ArZZ9kktsTT/wDA1%2BthLgLjaXwZdWl/hhzf%2BkTmfVlFfNth/wAFfv8AgmvqOPs/7Wfh5c/897a6i/8AQ4RWxY/8FRP%2BCeWoY%2Bz/ALYPgZc/899ZWL/0PFbRzbKpbYiH/gcf/kiXwHxzHfK8T/4IrP8AKmz3qivHLP8A4KHfsF3/ADB%2B2b8L1z/z28dWEf8A6HKK1rP9tf8AY11DH2D9rb4ZT56eT4905v5TVqsfgJbVof8Agcf/AJI46nCfFdH%2BJl2IXrQrr/3Cem0Vw1p%2B09%2BzVf4%2Bw/tDeBps9PJ8W2bZ/KStS0%2BNHwd1DH2D4seGp89PJ123b%2BT1qsRh5bTT%2Ba/zOGpk%2Bb0f4mGqR9adRfnTR0tFZlr408HX3/Hj4s0ybPTyr%2BNv5GtCG4guE3286SL6owI/StVKMtmcU6VWl8cWvVNfmkPooopmYUUUUAFeM%2BOP%2BUhfwv8A%2ByM%2BPP8A07eEK9mrxnxx/wApC/hf/wBkZ8ef%2BnbwhQB7NRRRQAV4F%2B2kmp%2BGviP8FfjVfeCvEHiDwx4J8eX134jtPDHhu71i7svtGhalZ298tlZxS3E4SW4EJ8qN2QXe8gIrsvvtFAHwTqfw8%2BImj/8ABPL4SfDbUPAfj/QNS8IeOdD1bVp/C/hC4vtY8D6c1zcXVq1lafZriHUJrWJ7azkgjiukgV5GaJ/KCnyf43/sw/tt%2BN/%2BCeUugeDfgjZeKPD2ljx5q1roXizUNR0bxNreqX%2BuX8tlrs%2BlQaVcCS6ktbme5%2BxH7IqXF8WENuYYYof1OooAwtWi%2BJurfDwx6FfaFoHiyfTkKy3drNq%2BnWV2VBcbFks5bqJW3AHdAzDBIT7tfnl/wRi8MeKIvjX%2B1r4y8b6rZajqr/tCS6Td3%2Bm6e9pbSz2/iLUnmaGCSWZoY2efcI2lkKggF2I3H9Kq%2BIv%2BCT3hVtH8FftE%2BJZ4/wB5rX7aPjaRHx1ii8RiFR%2BDJJ%2Bdefi6ftMVh3/LKT/8kkv1PruHsasHkGcxvrVo0qf34qlJ/hTPt2ivmLx//wAFNf8AhAvHet%2BBf%2BHfP7T2tf2Lq9zYf2xoHwn%2B02F/5MrR%2BfbS/aR5sL7d6PgblZTgZrI/4ew/9Y1P2tP/AAzf/wB1VnLOssjJxdTVf3Z//Kz84lxDk0JOMquq0%2BGp00/59H1pWL8R/h54M%2BLnw%2B1z4VfEbQYtV8P%2BJdIudL1zTJ2ZUurS4iaKaIlCGAZGYZUgjOQQea%2BfPAP/AAU1/wCE98d6L4F/4d8/tPaL/bWr21h/bGv/AAn%2BzWFh50qx%2Bfcy/aT5UKbt7vg7VVjg4r2b9pPxh8Tvh58AvF/xB%2BDPhy01nxPoOgXOpaPot7C7pqUkCGU2oCOhDyqjRo27Cu6sQwBU9eGxmGxkXKjK6W%2Bkl/6VGP6nbg8fg8wi5YeXMlo9JLz%2B1GP4XMaD9jX9nhfCvinwdqfhDUtXs/Gvhu30HxVL4i8V6nqd1qVhB9p8mOS5u7mSfen2ufEocSjcvz/Im3O8D/sFfstfD3Ul1zw/4C1KbUh4uHiiXVta8Y6tqV5cauNIm0YXc1xeXUss7DT55bfEjMu0qcbkRl8N8R/8FH/ib8SPC1z4x/ZcbQ9VsPEfjubSPhRLF4SXVG8QadYaQt1qt7I1zrelW0McV358Adrhdos3ASVpB5fE%2BDf26viN8XPEeifHiy%2B02unePPhl%2BzvqsfhRtfvfsOlT%2BIvF2u21/JB9mni3OYvJRmOUnW1hWZJYl8o9J2H2H4Y/ZO%2BBHgmx0Sw8HeE73Sl8OeBrTwdok2neI9QhmtNFtXjeC1WVJw52mKPMhYyMAQzsGYHR%2BN/7PXwp/aJ0TT9D%2BKWj6jMNI1E32kX%2BieIr7SL6xuDDLAzw3lhNDcRboZponCSAOkjKwKkivk34J/tU/tQfG79qT4QeMNT8VeEf7E8d/C3x/rfhz4e6VdXuntayWd/o0FtBq0pmuEupY/NKNcJbRG2ke4RYpM5Pt37b%2BreJJ9M%2BFHw3l8Var4d0jx38V7DQ/GepeG9duNPuobM6ff3SQQ3tu0U9v597a2dr5kbRyMtwVUqXFAHobfs9fC2LwInwy0Ww1fRdAg8NWmg2OmeGvFOo6XHp9ha/6hLX7JPGbR0GF86EpKVVFLlUUDnZv2KPgAfh5Y/C/TbPxfpel2N/dXpm0H4m6/p1/fXNyxa4mvL61vY7q/eRjlmuZZSxAJ5Ax5n8GNT/AGgvij/wTf8AHOifCn4mXEvje0vfH3hv4d%2BMNc1IyTSx2Gt6rp2kXU11IJDI/kW9sTdOJDIR5zB9xzwn7PVp8VPijL8b/gBN4L%2BIOm6b4X1LQJvB/h/xx%2B0FqkGqxapPp7TXdhc6/pV3fXUMe1ILoQJNcbUulYoiyCKMA%2Bg9b/YR/ZS16%2B8KXlz8J0tY/BeladpehadpOsXtjYmxsJhPY2lzaW8yQX0FvMvmQxXKSpE5ZkClmJs%2BAP2NfgR8LvjLr3x68DWviyy8ReKNan1bxCD8Sddm0/UL2WBbdppdOkvWs2KxJGiDycRLFGIwmxMfDln8VviZ4%2B%2BAlhp/xL/aX8ZaBJ4G%2BBnxF8QW2taP41u7Rn8QaJrz6ezy3kcqtrNtpoiSJHud8V7HcLcXELNKoT2K31D42fDL9p7w5%2B0l%2B0Fp%2Br3nhr4ia34Y0Tw/p%2BkfGbW7U%2BGtUu9Jihkgl8NDZp9zC12ZXeRpHljDeaYiIyygH1toXwx8D%2BGvHuv/ABP0TQ/I1zxRBZQ67ffaZW%2B0paLItuNjMUTYssg%2BRVLbvmzgYteD/wDkEzf9hW%2B/9K5a1Ky/B/8AyCZv%2Bwrff%2BlctAGpRRRQAUUUUAFFFFABRRRQAUUUUAFFFFABRRRQAUUUUAFFFFABRRRQAUUUUAFeM/sv/wDJb/2jv%2ByzWP8A6hXhevZq8Z/Zf/5Lf%2B0d/wBlmsf/AFCvC9AHs1FFFABRRRQAUUUUAFFFFABRRRQAUUUUAFFFFABRRRQAUUUUAFFFFABRRRQAV4z44/5SF/C//sjPjz/07eEK9mr5w/aP1f416P8At4fCef4HfD/wt4i1JvhH47W7tPFfjC50WCOD%2B1PCRLpLb6fes77to2GNRgk78gKQD6Porxn/AITj/goX/wBGv/Bn/wAPxq3/AMy9H/Ccf8FC/wDo1/4M/wDh%2BNW/%2BZegD2aivGf%2BE4/4KF/9Gv8AwZ/8Pxq3/wAy9H/Ccf8ABQv/AKNf%2BDP/AIfjVv8A5l6APZqK%2BcdJ/aO/bt1j4z6/8Drf9lD4SLqnh3wvpGu3ly/x11TyJINRudSt4UQjwxuLq2lzlgVAAePBYlgvUf8ACcf8FC/%2BjX/gz/4fjVv/AJl6APZqK8Z/4Tj/AIKF/wDRr/wZ/wDD8at/8y9H/Ccf8FC/%2BjX/AIM/%2BH41b/5l6APZqK8Z/wCE4/4KF/8ARr/wZ/8AD8at/wDMvXL%2BAf2jv27fiJ4r8b%2BENH/ZQ%2BEkNx4D8URaFqslz8ddUCTzyaVp%2Bph4tvhgkp5OowqSwU70cYwAzAH0dRXjP/Ccf8FC/wDo1/4M/wDh%2BNW/%2BZej/hOP%2BChf/Rr/AMGf/D8at/8AMvQB7NRXjP8AwnH/AAUL/wCjX/gz/wCH41b/AOZej/hOP%2BChf/Rr/wAGf/D8at/8y9AHs1FfOPwi/aO/bt%2BMvhS78X%2BHP2UPhJbW9n4o1vQpI73466ormfS9VutMncbfDDDY01pIyHOSjKSFOVHUf8Jx/wAFC/8Ao1/4M/8Ah%2BNW/wDmXoA9lZVdSjqCCOQRwaytQ8B%2BB9Xz/avgzSbrPX7Rp0T5/NTXl/8AwnH/AAUL/wCjX/gz/wCH41b/AOZej/hOP%2BChf/Rr/wAGf/D8at/8y9JxjLdXJlGMlaSudrf/ALPH7P8Aqmf7T%2BBng65z18/wzaPn846x739jX9kDUs/2j%2Byn8NrjPXz/AANp75/OGsL/AITj/goX/wBGv/Bn/wAPxq3/AMy9cv8ABH9o79u348fBjwh8cfCv7KHwktdL8Z%2BF9P13TbbUPjrqizwwXdtHcRpIE8MMocLIAwVmGQcEjmsZYXCy%2BKnF/wDbsf8A5EwlgsFP4qUX6xi//bTr7z/gn1%2BwffZ%2B0fsYfCvJ6mPwDp6H81hFZd3/AMEy/wDgnze/679jn4fLn/nj4bhj/wDQVFXf%2BE4/4KF/9Gv/AAZ/8Pxq3/zL0f8ACcf8FC/%2BjX/gz/4fjVv/AJl6yeXZdLejD/wCP/yJhLKcqlvh6f8A4BD/AOQMC6/4JQf8E5bzPnfsh%2BEBn/nlaPH/AOguKzrn/gjz/wAE07v/AFv7Jmgj/rneXif%2BgzCuw/4Tj/goX/0a/wDBn/w/Grf/ADL1y/xu/aO/bt%2BA/wAGPF/xx8VfsofCS60vwZ4X1DXdSttP%2BOuqNPNBaW0lxIkYfwwqlysZChmUZIyQOayeUZS98PD/AMAj/kZPIsjlvhaf/guH/wAiZFz/AMEVf%2BCYV1/rf2VbAZ/55%2BItUT/0G6FUZ/8Aghr/AMEtpzu/4ZgCH1j8Z60P/bzFem/8Jx/wUL/6Nf8Agz/4fjVv/mXo/wCE4/4KF/8ARr/wZ/8AD8at/wDMvUPI8le%2BGp/%2BAR/yMnw5w898HS/8Fx/yPJrj/ghD/wAEwZ/ufs/3kf8AueM9WP8A6Fcmqc//AAQN/wCCZkv%2Br%2BD2rxf7njC//rKa9l/4Tj/goX/0a/8ABn/w/Grf/MvR/wAJx/wUL/6Nf%2BDP/h%2BNW/8AmXqHw/kT/wCYWn/4CjWGR5NT%2BDDxXorfk0eHzf8ABv5/wTXl%2B58PPEUf%2B54tuv6saqzf8G9n/BOOT/V%2BGPFsf%2B54qk/qpr1L4u/tHft2/BrwpaeL/Ef7KHwkube88UaJoUcdl8ddUZxPqmq2umQOd3hhRsWa7jZznIRWIDHCnqP%2BE4/4KF/9Gv8AwZ/8Pxq3/wAy9Q%2BHMgf/ADCw/wDAUdEcuwcPhi16SqL8qqPnyX/g3e/4J2yfcsfGyf7nij/GI1Xf/g3T/wCCfJO6G%2B%2BIER7GPxNFx%2Bdua%2Bi/%2BE4/4KF/9Gv/AAZ/8Pxq3/zL0f8ACcf8FC/%2BjX/gz/4fjVv/AJl6l8M8PP8A5hYfd/wTaOHjH4ZzXpVrr8q6PnRf%2BDeD9iGA5sfiL8VbbHTyPFduMfnamp4v%2BDf39lG2/wCPH9oD422/p5HjW2XH/knX0J/wnH/BQv8A6Nf%2BDP8A4fjVv/mXrl/H37R37dvw78V%2BCPCGsfsofCSa48eeKJdC0qS2%2BOuqFIJ49K1DUy8u7wwCE8nTplBUMd7oMYJZT/VrIFtho/j/APJA6ClvOp/4Or//ADQeXQf8EIvgFZ/8eP7Wv7QVv6eT8QLdf/bKr1v/AMETfhnZDFh%2B3N%2B0tBjp5XxNhX%2BVnXtf/Ccf8FC/%2BjX/AIM/%2BH41b/5l6P8AhOP%2BChf/AEa/8Gf/AA/Grf8AzL1a4dyRbUF98v8A5Mwnl2GqfE5v/uLX/wDmg8ei/wCCOejWv/Hj/wAFEf2oYfTZ8U1H8rYUvwI/ZGm/ZX/4KE%2BDUk/aY%2BKnxEXXPgz4y2j4meKzqn9neTq3hb/j2%2BRfK8zzfn67vKj/ALtewf8ACcf8FC/%2BjX/gz/4fjVv/AJl6oeB/A/7VnjH9qzw58bvjd8OPh74Z0bwz8PfEOhww%2BFfiHfa1dXd1qV9olwjMlxpFikUaJpcoLB3YtKgC4yR0YfKcuwtVVKVO0l5y/Jza/AmjleCw9ZVYRfMu86j/AAlUkvwZ7rRRRXonoBRRRQAUUUUAFfOX7EPhjTfC37PHiy9sRIRe/tDeP9TvnYZwf%2BE81Te3A6KkY/Ba%2Bja%2BSv2SvFn7Z2n/AA98UWfwx%2BAfww1fQk%2BNPxF/s/Ude%2BLuo6bdzL/wmesljJbRaBcpEQ24ACZ8gA5BO0JpNp9i41KkYSgnpK1/Ozuvuep9Qf8ACc%2BCf%2Bhw0v8A8GEf/wAVS/8ACc%2BCf%2Bhw0r/wYR//ABVeW/8ACcf8FC/%2BjX/gz/4fjVv/AJl6P%2BE4/wCChf8A0a/8Gf8Aw/Grf/MvTIPUv%2BE58E/9DhpX/gwj/wDiqP8AhOfBP/Q4aV/4MI//AIqvLf8AhOP%2BChf/AEa/8Gf/AA/Grf8AzL0f8Jx/wUL/AOjX/gz/AOH41b/5l6ANS%2B%2BBn7FGqfDjSfg7qfwd%2BFtx4R0C9%2B2aF4Vn8Paa%2Bm6bc7pG86C2KeVDJullO9FBzI5z8xzoaf8ADj9lHSbW1stK8B/D22hsrTSbSyht9LsUW3g0ueS40yJAFARLSeWWW3UYEEkjvGFZiT5n8Ef2jv27fjx8GPCHxx8K/sofCS10vxn4X0/XdNttQ%2BOuqLPDBd20dxGkgTwwyhwsgDBWYZBwSOa6j/hOP%2BChf/Rr/wAGf/D8at/8y9AGrY/A/wDYq0vxTrfjnTPhB8LrfW/EsF1D4j1iDw/pqXWqx3WPtKXMoTfOsu1fMDkh8DdnFdB430r4AfEzwRc/DL4kab4O8QeG7yFIrvw9rkNpd2M8aMrIjwSho2VWVSAVwCoI6CuK/wCE4/4KF/8ARr/wZ/8AD8at/wDMvR/wnH/BQv8A6Nf%2BDP8A4fjVv/mXoA6uPwd%2BzNFoVn4Xi8K%2BBF0zTvDtxoGn6ctjZCC10m4EIn0%2BOPG1LWQW8AeAARuII8qdi4wpP2fP2GZvhbF8DZvgh8J38EwX/wBug8Ht4a0w6VHdZJ89bTy/JEmWb5wu75jzzXE/G79o79u34D/Bjxf8cfFX7KHwkutL8GeF9Q13UrbT/jrqjTzQWltJcSJGH8MKpcrGQoZlGSMkDmuo/wCE4/4KF/8ARr/wZ/8AD8at/wDMvQBt%2BI/hD%2Bx34w8O%2BHfCHi34X/DTVNJ8ITRzeE9L1HRNPnt9EkjAEb2kboVtmUABTGFIAGMVKPhf%2BySPi437QA%2BHfw5/4Tx4wj%2BNv7IsP7XZREIQpvNvnEeUBHjf9wBenFc//wAJx/wUL/6Nf%2BDP/h%2BNW/8AmXo/4Tj/AIKF/wDRr/wZ/wDD8at/8y9AHqP/AAnPgn/ocNL/APBhH/8AFUeDDv0MzqDsmvruWIkY3I9zIyt9CpBHsa8u/wCE4/4KF/8ARr/wZ/8AD8at/wDMvXL/ABd/aO/bt%2BDXhS08X%2BI/2UPhJc2954o0TQo47L466ozifVNVtdMgc7vDCjYs13GznOQisQGOFIB9HUV4z/wnH/BQv/o1/wCDP/h%2BNW/%2BZej/AITj/goX/wBGv/Bn/wAPxq3/AMy9AHs1FeM/8Jx/wUL/AOjX/gz/AOH41b/5l6P%2BE4/4KF/9Gv8AwZ/8Pxq3/wAy9AHs1FfOPj79o79u34d%2BK/BHhDWP2UPhJNcePPFEuhaVJbfHXVCkE8elahqZeXd4YBCeTp0ygqGO90GMEsvUf8Jx/wAFC/8Ao1/4M/8Ah%2BNW/wDmXoA9morxn/hOP%2BChf/Rr/wAGf/D8at/8y9H/AAnH/BQv/o1/4M/%2BH41b/wCZegD2aivGf%2BE4/wCChf8A0a/8Gf8Aw/Grf/MvXL6t%2B0d%2B3bo/xn0D4HXH7KHwkbVPEXhfV9ds7lPjrqnkRwadc6bbzI5PhjcHZtUgKgKQQkmSpChgD6Oorxn/AITj/goX/wBGv/Bn/wAPxq3/AMy9H/Ccf8FC/wDo1/4M/wDh%2BNW/%2BZegD2aivGf%2BE4/4KF/9Gv8AwZ/8Pxq3/wAy9H/Ccf8ABQv/AKNf%2BDP/AIfjVv8A5l6APZqK%2BcdJ/aO/bt1j4z6/8Drf9lD4SLqnh3wvpGu3ly/x11TyJINRudSt4UQjwxuLq2lzlgVAAePBYlgvUf8ACcf8FC/%2BjX/gz/4fjVv/AJl6APZqK8Z/4Tj/AIKF/wDRr/wZ/wDD8at/8y9H/Ccf8FC/%2BjX/AIM/%2BH41b/5l6APZqK8Z/wCE4/4KF/8ARr/wZ/8AD8at/wDMvXL%2BAf2jv27fiJ4r8b%2BENH/ZQ%2BEkNx4D8URaFqslz8ddUCTzyaVp%2Bph4tvhgkp5OowqSwU70cYwAzAH0dRXjP/Ccf8FC/wDo1/4M/wDh%2BNW/%2BZej/hOP%2BChf/Rr/AMGf/D8at/8AMvQB7NXjP7L/APyW/wDaO/7LNY/%2BoV4Xo/4Tj/goX/0a/wDBn/w/Grf/ADL1b/ZW%2BHPxp8H6x8UPHfx00DwvpOqePviFFrlnpXhPxLc6tb2trFoOj6YqvcXFlZs0jSadK5URbQsiDcxzgA9booooAKKKKACiiigAooooAKKKKACiiigAooooAKKKKACiiigAooooAKKKKACvlfVv2tPi5D%2B0jNri%2BHfB7fDzSPjBbfC5opNIuDr5uLzT7W4bUI7z7R5SQfbpbe3a0%2BzkskPn%2BeCFhr6orxm8/Yh%2BHF58fm%2BOr%2BOfFS20viuHxVc%2BBUurX%2BxJ9fi05dOj1RlNv9p81bdIx5QuBbmSJJjCZR5lAHs1FFFABRRRQB8x%2BHP2lviZD/wUA8UfB/4jax4e8J%2BG11%2B00XwZFqPwi1lLrxjB/YEGo4g8RtdrpzSx3dzqAFoIXl8u0mAUFmkX6cryvxZ%2By1B4/wDjJpHxT8e/G/xrq%2BleHtdj1rQPAFwdMi0ax1CO3eCOcNDZJey7PMkkVJrqSMSPu2fIgX1SgAooooA8X/4KC/F344fs/fsj%2BNPj18Ar3wpHrHgnQrvXLqDxhotzfW13aWttLM9uiW11bMkrsiKJC5VAWJR%2BBXn/AI8/a0%2BLngv48eLdT8KeHfCEXw88IfGPwj8PvGVnNpFwdb1XVddg0VI9Qhu0uFhjjg/tzSYzFJbyvIkM%2BJY9qCvYf2sf2cbL9rT4Ea9%2Bz7rXxV8U%2BEdJ8T2Utjrl/wCEF077Xc2UsTxTW26/tLqNEdX5ZEWQFRtdec8XB%2BwD4On%2BItn8RfFXxx8fa6x1nSdc8TaNqEulRWPifXNMSNLHVr2O2sImW4iEFphbZoIGNjbF4mMeSAe90UUUAFeL/tk/F344fBK18A%2BMfhZe%2BFP7G1D4meHPD3i%2Bx8QaLc3N1c2uq6zY6aDZyw3UKW0ka3Msm%2BRJ1JRF2ck17RXlX7V37Lb/ALVXhvQvC8/x98b%2BBrfQvElhrqN4Lh0dnu72xvILyzaU6lp94NsVxbxuFjCBuVk3qdoAPOP2ef2lfiZrf7Vfi34I/FDV/D3hPTofFOt2/gnwlJ8ItZ0y5162hdJTf2%2Bt3F39g1B2MksssVtAXGS7FcMT9OV5LpP7KIf4yaL8ZfiP%2B0B478azeF7u8u/CeheIRpMNho91c28lrJcRLYafbSyv9nmnhXz5JVRZ32gEgj1qgAooooA8H/a1%2BM37QXwG8SeF/F3gzxB4IvfD2teLtC8O23gW%2B8OXkmua5c3t8sNy1pex3qxQmC1aS62NaTDy7SZneNAXj4/9iX9rT4ufFTXvhxpnj/w74QsvC/xf%2BDlx8Qfhlp/hbSLi0m0DSrafS0Gn3rSXEsdzJ9n1rTmEsMduitHOnlEBWr0L4k/scr8RP2ndE/amt/2jviBoWq%2BH9DGlaZoGmQ6JcaXBA83m3LRpfaZcTQy3IEcc0sUqO0cMaKyAcn7PP7EPw4/Zx8XReKvDfjjxVrUek%2BHpfD3grSPEF1ava%2BEtFkuEuH06wEFvFJ5JeG2Gbh55QlpAgkCoBQB7NRRRQAV8v/tc/Hj9pf4LfETT/CmlQ%2BAPGuj%2BOYdattF%2BHMXg%2B%2Bk1hLW00O6u5L%2B4nF68V1bC6it7aSEWsQP2%2BFBMZGRJPqCvDpv2JriP9o/xX%2B01on7VfxL07V/Fumw6dc6XDB4fntNPs4YGjhtrNrnSZbm3iWV3utizbXncu4cHbQAz9hD9oTxv8fPh5eXXxX8faNfeLtOFm2v%2BG7L4Xav4RvNAee2WUQXNjq91PcOC2/y7gCOORUO0NtJr3SvN/gd%2Bzdp3wZ8T%2BJPiHrHxS8U%2BOPFXiuKxt9Y8T%2BLmsFuXtLMTfZbVItPtbW2jija5uXG2EMzXEhZmyMekUAFFFFAHxR%2B0x%2B3D8fvgd8fb/wCA%2Bo6b4Q8WjWHsk8Jf2j8M9X0W20fUb3xDoemaQz3l3eS2/iBI5dYhluG08RNbtafP5LSoq%2B//ALKvxf8AiR8Rh4/%2BH3xiOiT%2BKvhp48bw1rOq%2BGtOms7DU/M0vTtWt7iG3mnnkt82uqW6PG00uJI5MMQRjlviX/wTz8G/G3XrjxB8bfj58RfFT20dx/wh0N/c6VbJ4RuJLq3uo7uwNnYQs9xDLaWxiku2uSnld977/R/gH8BdD%2BAfh7VtNsvF%2BueJNW8Ra9NrXifxR4le2N/q99JHFD50wtYIIF2QQW8CJFFGixwRqF4JIB3VFFFABXxN%2B1F%2B2P8AtYfB34zeKPhX4P8ADXhzxvqul%2BGL/wAQ%2BEo0%2BCevwyaQ6Xen28Kwub118TSfZNTnWYaX5TwtEVkEfnCMfbNeI61%2BxfqPiLx%2B3xP1z9rT4oXOt2Fvew%2BDbt00EL4VW7mhec2kY0oJOzRwpAGvRdFYi4BDOzkA6X9lT4tzfGX4UjxNqPxO0bxTqNrqtzY6tdaP4Iv/AA2bO4ib5rWfTNRuJ7q0nRSu5JmDEMrbVVhXpNcJ8A/gHoHwB0LWbHT/ABbrniPVfE3iCXXPE/ibxJLbte6rfyQwwebILaGGCMLBb28KpFFGipCgC5yT3dABRRRQAUUUUAFFFFABRRRQBR8UeIbDwl4a1HxXqoc2umWM13ciJct5caF2wO5wpr5z/Ym/aT%2BNfj/xTo/gz42eHvBlmPHXwtsviN4Zh8GaVcWg0yO8uCbvT7szXEou5o3ubZ/tiCATtLMTBHtBf6Wu7S1v7WWxvbdJoZo2jmilUMrqRgqQeCCOMV5D%2BzN%2BxX4C/Zg1V9X0D4g%2BLfEstt4YsfDPh0eLL21mGgaFZvI9vptqbe3hLRqZPmlnM1xII4vMmfy1wAexUUUUAFcL%2B1B48%2BIvws/Zo%2BInxO%2BD/hRde8W%2BHPAur6p4W0NrGa6Go6jb2csttbGGBllmEkqInlxsHbdhSCQa7qs7xbol/wCJfDGoeH9L8V6joVze2kkNvrWkLA11YuykCaIXEUsRdTyBJG6ZHzKwyCAeXfsU/Fqf4o/DO%2BstW%2BIWgazqfh3VF0680zRPhhqng59DQW0EkVncaVqlzPcwuEcSK7eWjxSxbEwN7%2BxV558B/wBnbSfgdeeJfEdz8RPEnjHxJ4v1GG88ReKfFb2Yu7ow26W8EQjsba2tooo40AVY4UyWdmLMzMfQ6ACiiigD5c/ao/ax%2BKH7OHxe8cWXxK0bwl4i%2BF9h%2Bzv4v8e22hW%2BiXCaq7aINLWe2uLmS5e3minW%2BnAQWyFQiZd8sK7f9mf4v/HzVPi54y/Z1/aWfwleeKPDHhjw94lj1XwVpNzY2Ullqz6lbrbGG5ublzLDcaRdgyiQLIjxN5cZ3LUHxj/YV8O/HT46t8ZfHnx28cy6bN4K1PwjffD2GDRf7Eu9G1Jbb7faSF9Na9Ina0gdnF0HUoQjIjMh6T9nf9l3Q/2fb7WvEc/xQ8W%2BN/EOv2thZX/ifxtc2kl6bCxSRbOzH2S2t4/KiM9w4JQyO9zK7u7NmgD0%2BiiigAr5E%2BNf7S/7W3gvXP2gPAtv4V8GeLL3wF4f8KeJPhtY6T8P9Tv51j1HVdShCXdrFePLqM8C6bHOpthbkuSFX5VavruvC5f2KPEMXx08bfH/AEL9tD4raVq3jfSLHTLmxsrPww1ppttZXFzPZpbCXRXk/dG8ulBmeUus5EnmFUKgHV/sqfFub4y/CkeJtR%2BJ2jeKdRtdVubHVrrR/BF/4bNncRN81rPpmo3E91aTopXckzBiGVtqqwr0muE%2BAfwD0D4A6FrNjp/i3XPEeq%2BJvEEuueJ/E3iSW3a91W/khhg82QW0MMEYWC3t4VSKKNFSFAFzknu6ACiiigD42/aW/a7/AGlv2ePjNB8NtZT4Z%2BNb7W4IJvCMOneFr20l8F3mpeIdM8PaRNqcr30wuop21ecFols5HFjdLGGXzDF7j%2Byr8X/iR8Rh4/8Ah98Yjok/ir4aePG8NazqvhrTprOw1PzNL07Vre4ht5p55LfNrqlujxtNLiSOTDEEY4W2/wCCavhJrr4hv4h/aX%2BJ2s2/xJ1465rFvqR0LzLPUoriGfT7m2uotLS6U2D29uLSN5pIolhQMj859Y%2BAfwF0P4B%2BHtW02y8X654k1bxFr02teJ/FHiV7Y3%2Br30kcUPnTC1gggXZBBbwIkUUaLHBGoXgkgHdUUUUAMuftP2aT7Hs87YfK83O3djjOOcZr4g%2BK37XP7afw0%2BImufDa3tvAfjPXvDF74at9W8deCPgrr%2BrR%2BHLfVmvHvbCXSrPUp7u5mjhsrG6JinT93dQtLAgMTSfb13DJcWstvDdSQPJGyrPEFLxkjAZdwK5HUZBHqDXz38GP2AvEHwE%2BG1x8NPh3%2B3V8Yoo7rVn1ObWbyy8Jz6hLdyvLJczzTPoR%2B0yTvLukknEj5jTYUAwQD1n4CfEOy%2BK3wd8P/EKw%2BIGjeKk1PTxI%2Bv8Ah/SZrC0u5ASshS1nmmltirqyNDJI7xsrKx3KQOvrkvgX8F/CX7Pvwv074U%2BCrm/uLKwluria%2B1W5E11fXd1cy3V1dTOFUNLNcTzSvtVV3SHaqrhR1tABVHxPD4kufDeoW/g3U7Gy1eSylXS7zU7B7q2guChEcksMcsTTRq2CyLJGWAIDqTuF6s3xjoN/4o8LX/h3S/FupaDc3lq8UGtaOIDdWLkcTRC4iliLqeQJI3Q4%2BZWGRQB8TfCn9uD9rL43fFy/%2BAHwrsfh/D45R9bnHjbxX8Lda0SPUNJ0i00WT7NNoV3fpqNjK154jijjknmKGFZbiOJ1lUH62/Zs%2BM2n/tHfs6eAf2htK0iTT7Xx54K0rxFbWE0m57aO9s4rlYmbAyVEoUnAzivItQ/4JqeDtR1u6%2BJD/tLfFKH4iahPcrqXxPtbzSItYurGe0gtZdO8tdNFlFbGO1tmAito5FlhWUSCTLn3v4feA/Cfws8BaJ8MfAejx6dofhzSLbS9F0%2BIkpbWlvEsUMS5ycKiKoz6UAa9FFFAHL/GnUfHGjfC3Wtb%2BHPiGx0vVrCzN1Dfah4PvfECJHGQ8oGnWM8FzeSNErqkUMgcuy4Vz8jfFvw1/wCCiPx%2B1zxD4e13xhceEfAng3U5dR/4Sjx5e/AzxFcWuo3trrsmkxfamS%2BjXwzLLa20RMWqM8luxEb/AHNlfbfxM8Ga7498JTeHPDfxS1/wbeSSxvFr/hmKxe7g2sCVVb%2B2uYGDAFSHibgnGDgjxXUP%2BCc3hTV/AN78KNU/aQ%2BJtx4X8R3N3c/ELQ3uNH2eMp7u5ee7kvpRponh84OIWjspLWMQoqKigEkA%2BiaKKKACiiigAooooAKKKKACiiigAooooAKKKKACiiigAooooAKKKKACiiigAooooAKKKKACiiigAooooAKKKKACiiigAooooAKKKKACiiigAooooAKKKKACiiigAooooAKKKKACiiigAooooAKKKKACiiigAooooAKKKKACiiigAooooAKKKKACiiigAooooAKKKKACiiigAooooAKKKKACiiigAooooAKKKKACiiigAooooAKKKKACiiigAooooAKKKKACiiigAooooAKKKKACiiigAooooAKKKKACiiigAooooAKKKKACiiigAooooAKKKKAP/9k%3D\">"
      ]
     },
     "metadata": {},
     "output_type": "display_data"
    }
   ],
   "source": [
    "s.run(tf.global_variables_initializer())\n",
    "\n",
    "BATCH_SIZE = 512\n",
    "EPOCHS = 40\n",
    "\n",
    "# for logging the progress right here in Jupyter (for those who don't have TensorBoard)\n",
    "simpleTrainingCurves = matplotlib_utils.SimpleTrainingCurves(\"cross-entropy\", \"accuracy\")\n",
    "\n",
    "for epoch in range(EPOCHS):  # we finish an epoch when we've looked at all training samples\n",
    "    \n",
    "    batch_losses = []\n",
    "    for batch_start in range(0, X_train_flat.shape[0], BATCH_SIZE):  # data is already shuffled\n",
    "        _, batch_loss = s.run([step, loss], {input_X: X_train_flat[batch_start:batch_start+BATCH_SIZE], \n",
    "                                             input_y: y_train_oh[batch_start:batch_start+BATCH_SIZE]})\n",
    "        # collect batch losses, this is almost free as we need a forward pass for backprop anyway\n",
    "        batch_losses.append(batch_loss)\n",
    "    \n",
    "    print('batch_losses=',batch_losses)\n",
    "    train_loss = np.mean(batch_losses)\n",
    "    print('train_loss=',train_loss)\n",
    "    val_loss = s.run(loss, {input_X: X_val_flat, input_y: y_val_oh})  # this part is usually small\n",
    "    train_accuracy = accuracy_score(y_train, s.run(classes, {input_X: X_train_flat}))  # this is slow and usually skipped\n",
    "    valid_accuracy = accuracy_score(y_val, s.run(classes, {input_X: X_val_flat}))  \n",
    "    simpleTrainingCurves.add(train_loss, val_loss, train_accuracy, valid_accuracy)"
   ]
  },
  {
   "cell_type": "markdown",
   "metadata": {},
   "source": [
    "# Submit a linear model"
   ]
  },
  {
   "cell_type": "code",
   "execution_count": 25,
   "metadata": {},
   "outputs": [],
   "source": [
    "## GRADED PART, DO NOT CHANGE!\n",
    "# Testing shapes \n",
    "grader.set_answer(\"9XaAS\", grading_utils.get_tensors_shapes_string([W, b, input_X, input_y, logits, probas, classes]))\n",
    "# Validation loss\n",
    "grader.set_answer(\"vmogZ\", s.run(loss, {input_X: X_val_flat, input_y: y_val_oh}))\n",
    "# Validation accuracy\n",
    "grader.set_answer(\"RMv95\", accuracy_score(y_val, s.run(classes, {input_X: X_val_flat})))"
   ]
  },
  {
   "cell_type": "code",
   "execution_count": 26,
   "metadata": {},
   "outputs": [
    {
     "name": "stdout",
     "output_type": "stream",
     "text": [
      "Submitted to Coursera platform. See results on assignment page!\n"
     ]
    }
   ],
   "source": [
    "# you can make submission with answers so far to check yourself at this stage\n",
    "grader.submit(COURSERA_EMAIL, COURSERA_TOKEN)"
   ]
  },
  {
   "cell_type": "markdown",
   "metadata": {},
   "source": [
    "# MLP with hidden layers"
   ]
  },
  {
   "cell_type": "markdown",
   "metadata": {},
   "source": [
    "Previously we've coded a dense layer with matrix multiplication by hand. \n",
    "But this is not convenient, you have to create a lot of variables and your code becomes a mess. \n",
    "In TensorFlow there's an easier way to make a dense layer:\n",
    "```python\n",
    "hidden1 = tf.layers.dense(inputs, 256, activation=tf.nn.sigmoid)\n",
    "```\n",
    "\n",
    "That will create all the necessary variables automatically.\n",
    "Here you can also choose an activation function (remember that we need it for a hidden layer!).\n",
    "\n",
    "Now define the MLP with 2 hidden layers and restart training with the cell above.\n",
    "\n",
    "You're aiming for ~0.97 validation accuracy here."
   ]
  },
  {
   "cell_type": "code",
   "execution_count": 8,
   "metadata": {},
   "outputs": [],
   "source": [
    "# write the code here to get a new `step` operation and then run the cell with training loop above.\n",
    "# name your variables in the same way (e.g. logits, probas, classes, etc) for safety.\n",
    "### YOUR CODE HERE ###\n",
    "hidden_1 = tf.layers.dense(input_X,256,activation=tf.nn.sigmoid)\n",
    "hidden_2 = tf.layers.dense(hidden_1,256,activation=tf.nn.sigmoid)\n",
    "logits = tf.layers.dense(hidden_2,10)\n",
    "\n",
    "probas = tf.nn.softmax(logits)\n",
    "classes = tf.argmax(probas,axis=1)\n",
    "\n",
    "loss = tf.reduce_mean(tf.nn.softmax_cross_entropy_with_logits(labels=input_y,logits=logits))\n",
    "step = tf.train.AdamOptimizer().minimize(loss)"
   ]
  },
  {
   "cell_type": "code",
   "execution_count": 9,
   "metadata": {},
   "outputs": [
    {
     "name": "stdout",
     "output_type": "stream",
     "text": [
      "logits= Tensor(\"dense_3/BiasAdd:0\", shape=(?, 10), dtype=float32)\n",
      "probas= Tensor(\"Softmax:0\", shape=(?, 10), dtype=float32)\n",
      "classes= Tensor(\"ArgMax:0\", shape=(?,), dtype=int64)\n",
      "loss= Tensor(\"Mean:0\", shape=(), dtype=float32)\n"
     ]
    }
   ],
   "source": [
    "print('logits=',logits)\n",
    "print('probas=',probas)\n",
    "print('classes=',classes)\n",
    "print('loss=',loss)\n",
    "writer = tf.summary.FileWriter(\"tensorboard_logs\", graph=s.graph)\n",
    "writer.flush()"
   ]
  },
  {
   "cell_type": "markdown",
   "metadata": {},
   "source": [
    "# Submit the MLP with 2 hidden layers\n",
    "Run these cells after training the MLP with 2 hidden layers"
   ]
  },
  {
   "cell_type": "code",
   "execution_count": 13,
   "metadata": {},
   "outputs": [],
   "source": [
    "## GRADED PART, DO NOT CHANGE!\n",
    "# Validation loss for MLP\n",
    "grader.set_answer(\"i8bgs\", s.run(loss, {input_X: X_val_flat, input_y: y_val_oh}))\n",
    "# Validation accuracy for MLP\n",
    "grader.set_answer(\"rE763\", accuracy_score(y_val, s.run(classes, {input_X: X_val_flat})))"
   ]
  },
  {
   "cell_type": "code",
   "execution_count": 14,
   "metadata": {},
   "outputs": [
    {
     "name": "stdout",
     "output_type": "stream",
     "text": [
      "Submitted to Coursera platform. See results on assignment page!\n"
     ]
    }
   ],
   "source": [
    "# you can make submission with answers so far to check yourself at this stage\n",
    "grader.submit(COURSERA_EMAIL, COURSERA_TOKEN)"
   ]
  },
  {
   "cell_type": "code",
   "execution_count": null,
   "metadata": {},
   "outputs": [],
   "source": []
  }
 ],
 "metadata": {
  "kernelspec": {
   "display_name": "Python 3",
   "language": "python",
   "name": "python3"
  },
  "language_info": {
   "codemirror_mode": {
    "name": "ipython",
    "version": 3
   },
   "file_extension": ".py",
   "mimetype": "text/x-python",
   "name": "python",
   "nbconvert_exporter": "python",
   "pygments_lexer": "ipython3",
   "version": "3.6.0"
  }
 },
 "nbformat": 4,
 "nbformat_minor": 1
}
